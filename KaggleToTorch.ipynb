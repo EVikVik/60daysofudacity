{
 "cells": [
  {
   "cell_type": "code",
   "execution_count": 1,
   "metadata": {},
   "outputs": [],
   "source": [
    "# 1. Introduction to Kaggle\n",
    "# --- Torch ---\n",
    "import numpy as np\n",
    "\n",
    "test_t  = np.genfromtxt('KaggleData/kaggle_test.csv', delimiter=\",\")\n",
    "print(test_t.shape)\n",
    "\n",
    "train_t = np.genfromtxt('KaggleData/kaggle_train.csv', delimiter=\",\")\n",
    "print(train_t.shape)"
   ]
  },
  {
   "cell_type": "code",
   "execution_count": 1,
   "metadata": {},
   "outputs": [
    {
     "name": "stdout",
     "output_type": "stream",
     "text": [
      "(418, 11)\n(891, 12)\n"
     ]
    }
   ],
   "source": [
    "# --- Kaggle ---\n",
    "import pandas as pd\n",
    "\n",
    "test = pd.read_csv(\"KaggleData/test.csv\")\n",
    "test_shape = test.shape\n",
    "print(test_shape)\n",
    "\n",
    "train = pd.read_csv(\"KaggleData/train.csv\")\n",
    "train_shape = train.shape\n",
    "print(train_shape)"
   ]
  },
  {
   "cell_type": "code",
   "execution_count": 2,
   "metadata": {},
   "outputs": [
    {
     "data": {
      "text/html": [
       "<div>\n",
       "<style scoped>\n",
       "    .dataframe tbody tr th:only-of-type {\n",
       "        vertical-align: middle;\n",
       "    }\n",
       "\n",
       "    .dataframe tbody tr th {\n",
       "        vertical-align: top;\n",
       "    }\n",
       "\n",
       "    .dataframe thead th {\n",
       "        text-align: right;\n",
       "    }\n",
       "</style>\n",
       "<table border=\"1\" class=\"dataframe\">\n",
       "  <thead>\n",
       "    <tr style=\"text-align: right;\">\n",
       "      <th></th>\n",
       "      <th>PassengerId</th>\n",
       "      <th>Survived</th>\n",
       "      <th>Pclass</th>\n",
       "      <th>Name</th>\n",
       "      <th>Sex</th>\n",
       "      <th>Age</th>\n",
       "      <th>SibSp</th>\n",
       "      <th>Parch</th>\n",
       "      <th>Ticket</th>\n",
       "      <th>Fare</th>\n",
       "      <th>Cabin</th>\n",
       "      <th>Embarked</th>\n",
       "    </tr>\n",
       "  </thead>\n",
       "  <tbody>\n",
       "    <tr>\n",
       "      <th>0</th>\n",
       "      <td>1</td>\n",
       "      <td>0</td>\n",
       "      <td>3</td>\n",
       "      <td>Braund, Mr. Owen Harris</td>\n",
       "      <td>male</td>\n",
       "      <td>22.0</td>\n",
       "      <td>1</td>\n",
       "      <td>0</td>\n",
       "      <td>A/5 21171</td>\n",
       "      <td>7.2500</td>\n",
       "      <td>NaN</td>\n",
       "      <td>S</td>\n",
       "    </tr>\n",
       "    <tr>\n",
       "      <th>1</th>\n",
       "      <td>2</td>\n",
       "      <td>1</td>\n",
       "      <td>1</td>\n",
       "      <td>Cumings, Mrs. John Bradley (Florence Briggs Th...</td>\n",
       "      <td>female</td>\n",
       "      <td>38.0</td>\n",
       "      <td>1</td>\n",
       "      <td>0</td>\n",
       "      <td>PC 17599</td>\n",
       "      <td>71.2833</td>\n",
       "      <td>C85</td>\n",
       "      <td>C</td>\n",
       "    </tr>\n",
       "  </tbody>\n",
       "</table>\n",
       "</div>"
      ],
      "text/plain": [
       "<div>\n",
       "<style scoped>\n",
       "    .dataframe tbody tr th:only-of-type {\n",
       "        vertical-align: middle;\n",
       "    }\n",
       "\n",
       "    .dataframe tbody tr th {\n",
       "        vertical-align: top;\n",
       "    }\n",
       "\n",
       "    .dataframe thead th {\n",
       "        text-align: right;\n",
       "    }\n",
       "</style>\n",
       "<table border=\"1\" class=\"dataframe\">\n",
       "  <thead>\n",
       "    <tr style=\"text-align: right;\">\n",
       "      <th></th>\n",
       "      <th>PassengerId</th>\n",
       "      <th>Survived</th>\n",
       "      <th>Pclass</th>\n",
       "      <th>Name</th>\n",
       "      <th>Sex</th>\n",
       "      <th>Age</th>\n",
       "      <th>SibSp</th>\n",
       "      <th>Parch</th>\n",
       "      <th>Ticket</th>\n",
       "      <th>Fare</th>\n",
       "      <th>Cabin</th>\n",
       "      <th>Embarked</th>\n",
       "    </tr>\n",
       "  </thead>\n",
       "  <tbody>\n",
       "    <tr>\n",
       "      <th>0</th>\n",
       "      <td>1</td>\n",
       "      <td>0</td>\n",
       "      <td>3</td>\n",
       "      <td>Braund, Mr. Owen Harris</td>\n",
       "      <td>male</td>\n",
       "      <td>22.0</td>\n",
       "      <td>1</td>\n",
       "      <td>0</td>\n",
       "      <td>A/5 21171</td>\n",
       "      <td>7.2500</td>\n",
       "      <td>NaN</td>\n",
       "      <td>S</td>\n",
       "    </tr>\n",
       "    <tr>\n",
       "      <th>1</th>\n",
       "      <td>2</td>\n",
       "      <td>1</td>\n",
       "      <td>1</td>\n",
       "      <td>Cumings, Mrs. John Bradley (Florence Briggs Th...</td>\n",
       "      <td>female</td>\n",
       "      <td>38.0</td>\n",
       "      <td>1</td>\n",
       "      <td>0</td>\n",
       "      <td>PC 17599</td>\n",
       "      <td>71.2833</td>\n",
       "      <td>C85</td>\n",
       "      <td>C</td>\n",
       "    </tr>\n",
       "  </tbody>\n",
       "</table>\n",
       "</div>"
      ]
     },
     "execution_count": 2,
     "metadata": {},
     "output_type": "execute_result"
    }
   ],
   "source": [
    "train.head(2)\n"
   ]
  },
  {
   "cell_type": "code",
   "execution_count": 3,
   "metadata": {},
   "outputs": [],
   "source": [
    "\n",
    "def process_age(df,cut_points,label_names):\n",
    "    df[\"Age\"] = df[\"Age\"].fillna(-0.5)\n",
    "    df[\"Age_categories\"] = pd.cut(df[\"Age\"],cut_points,labels=label_names)\n",
    "    return df\n",
    "\n",
    "cut_points = [-1,0, 5, 12, 18, 35, 60, 100]\n",
    "label_names = [\"Missing\", 'Infant', \"Child\", 'Teenager', \"Young Adult\", 'Adult', 'Senior']\n",
    "\n",
    "train = process_age(train, cut_points, label_names)\n",
    "test  = process_age(test,  cut_points, label_names)"
   ]
  },
  {
   "cell_type": "code",
   "execution_count": 4,
   "metadata": {},
   "outputs": [],
   "source": [
    "def create_dummies(df,column_name):\n",
    "    dummies = pd.get_dummies(df[column_name],prefix=column_name)\n",
    "    df = pd.concat([df,dummies],axis=1)\n",
    "    return df\n",
    "\n",
    "def prepare_data(data):\n",
    "    data = create_dummies(data,\"Pclass\")\n",
    "    data = create_dummies(data,\"Sex\")\n",
    "    data = create_dummies(data,\"Age_categories\")\n",
    "    \n",
    "    return data"
   ]
  },
  {
   "cell_type": "code",
   "execution_count": 5,
   "metadata": {},
   "outputs": [],
   "source": [
    "columns = ['Pclass_1', 'Pclass_2', 'Pclass_3', 'Sex_female', 'Sex_male',\n",
    "       'Age_categories_Missing','Age_categories_Infant',\n",
    "       'Age_categories_Child', 'Age_categories_Teenager',\n",
    "       'Age_categories_Young Adult', 'Age_categories_Adult',\n",
    "       'Age_categories_Senior']"
   ]
  },
  {
   "cell_type": "code",
   "execution_count": 6,
   "metadata": {},
   "outputs": [
    {
     "name": "stdout",
     "output_type": "stream",
     "text": [
      "train.shape: (891, 25)\ntest.shape: (418, 24)\n"
     ]
    }
   ],
   "source": [
    "train = prepare_data(train)\n",
    "print('train.shape:', train.shape)\n",
    "test = prepare_data(test)\n",
    "print('test.shape:', test.shape)"
   ]
  },
  {
   "cell_type": "code",
   "execution_count": 7,
   "metadata": {},
   "outputs": [],
   "source": [
    "from sklearn.model_selection import train_test_split\n",
    "\n",
    "all_X = train[columns]\n",
    "all_y = train['Survived']\n",
    "\n",
    "train_X, test_X, train_Y, test_Y = train_test_split(all_X, all_y, test_size=0.2)"
   ]
  },
  {
   "cell_type": "code",
   "execution_count": 8,
   "metadata": {
    "collapsed": false
   },
   "outputs": [
    {
     "name": "stdout",
     "output_type": "stream",
     "text": [
      "---> train_X: (712, 12)\n---> train_Y: (712,)\n---> test_X: (179, 12)\n---> test_Y: (179,)\n"
     ]
    }
   ],
   "source": [
    "# --- Pandas to Torch ---\n",
    "import torch as th\n",
    "\n",
    "print('---> train_X:', train_X.shape)\n",
    "print('---> train_Y:', train_Y.shape)\n",
    "print('---> test_X:', test_X.shape)\n",
    "print('---> test_Y:', test_Y.shape)\n",
    "\n",
    "train_X_t = th.tensor(train_X.values)\n",
    "train_Y_t = th.tensor(train_Y.values)\n",
    "\n",
    "test_X_t  = th.tensor(test_X.values)\n",
    "test_Y_t  = th.tensor(test_Y.values)"
   ]
  },
  {
   "cell_type": "code",
   "execution_count": 9,
   "metadata": {
    "collapsed": true
   },
   "outputs": [],
   "source": [
    "# *********** Create the model **********\n",
    "from torch import nn\n",
    "from collections import OrderedDict\n",
    "\n",
    "model = nn.Sequential(OrderedDict([\n",
    "    ('fc1',  nn.Linear(12, 4)),\n",
    "    ('relu', nn.ReLU()),\n",
    "    ('drop', nn.Dropout(p=0.2)),\n",
    "    ('fc2',  nn.Linear(4, 2)),\n",
    "    ('output', nn.Sigmoid())\n",
    "]))"
   ]
  },
  {
   "cell_type": "code",
   "execution_count": 10,
   "metadata": {
    "collapsed": true
   },
   "outputs": [],
   "source": [
    "def model_learning(obj_model, obj_opt, obj_data, obj_target):\n",
    "    obj_opt.zero_grad()\n",
    "    \n",
    "    obj_pred = obj_model(obj_data.float())\n",
    "    obj_loss = criterion(obj_pred, obj_target.long())\n",
    "    obj_loss.backward()\n",
    "    \n",
    "    obj_opt.step()\n",
    "\n",
    "    return obj_loss"
   ]
  },
  {
   "cell_type": "code",
   "execution_count": 13,
   "metadata": {
    "collapsed": true
   },
   "outputs": [
    {
     "name": "stdout",
     "output_type": "stream",
     "text": [
      "Accuracy 48.60\nAccuracy 58.66\nAccuracy 58.66\nAccuracy 59.78\nAccuracy 68.16\nAccuracy 78.77\nAccuracy 77.09\nAccuracy 77.09\n"
     ]
    },
    {
     "name": "stdout",
     "output_type": "stream",
     "text": [
      "Accuracy 77.09\nAccuracy 77.09\nAccuracy 77.09\nAccuracy 77.09\nAccuracy 77.09\nAccuracy 78.77\nAccuracy 78.77\n"
     ]
    },
    {
     "name": "stdout",
     "output_type": "stream",
     "text": [
      "Accuracy 78.77\nAccuracy 78.77\nAccuracy 78.77\nAccuracy 79.33\nAccuracy 79.33\nAccuracy 79.33\nAccuracy 79.33\n"
     ]
    },
    {
     "name": "stdout",
     "output_type": "stream",
     "text": [
      "Accuracy 79.33\nAccuracy 79.33\nAccuracy 79.33\nAccuracy 79.89\nAccuracy 79.89\nAccuracy 79.89\nAccuracy 79.89\n"
     ]
    },
    {
     "name": "stdout",
     "output_type": "stream",
     "text": [
      "Accuracy 79.89\nAccuracy 79.89\nAccuracy 79.89\nAccuracy 79.89\nAccuracy 79.89\nAccuracy 79.89\nAccuracy 79.89\nAccuracy 79.89\nAccuracy 80.45\nAccuracy 79.89\nAccuracy 79.89\n"
     ]
    },
    {
     "name": "stdout",
     "output_type": "stream",
     "text": [
      "Accuracy 79.89\nAccuracy 79.89\nAccuracy 79.89\nAccuracy 79.89\nAccuracy 80.45\nAccuracy 80.45\nAccuracy 80.45\nAccuracy 80.45\nAccuracy 80.45\nAccuracy 80.45\n"
     ]
    }
   ],
   "source": [
    "epochs = 50\n",
    "train_sets_num = 89\n",
    "train_set_size = 8\n",
    "\n",
    "\n",
    "loss = th.FloatTensor\n",
    "criterion = nn.CrossEntropyLoss()\n",
    "opt = th.optim.Adam(model.parameters(), lr=0.01)\n",
    "\n",
    "for e in range(epochs):\n",
    "    running_loss = 0\n",
    "    for ts_i in range(0, train_sets_num, train_set_size):\n",
    "        running_loss += model_learning(model, opt,\n",
    "                                      train_X_t[ts_i: ts_i+train_set_size],\n",
    "                                      train_Y_t[ts_i: ts_i+train_set_size ]).item()\n",
    "    else: \n",
    "        with th.no_grad():\n",
    "            model.eval()\n",
    "            test_loss = 0\n",
    "            accuracy  = 0\n",
    "\n",
    "            pred = model(test_X_t.float())\n",
    "            loss = criterion(pred, test_Y_t.long())\n",
    "            test_loss += loss.item()\n",
    "\n",
    "            output = th.max(pred, 1)[1]\n",
    "            accuracy = th.mean((output == test_Y_t.long()).float())\n",
    "                \n",
    "        print('Accuracy {:.2f}'.format(accuracy * 100.0))\n",
    "\n",
    "        model.train()"
   ]
  },
  {
   "cell_type": "code",
   "execution_count": 24,
   "metadata": {},
   "outputs": [],
   "source": [
    "d = test[columns]\n",
    "d_tensor = th.tensor(d.values)\n",
    "res = model(d_tensor.float()) \n",
    "holdout_predictions = th.max(res, 1)[1]"
   ]
  },
  {
   "cell_type": "code",
   "execution_count": 26,
   "metadata": {},
   "outputs": [],
   "source": [
    "holdout_ids = test[\"PassengerId\"]\n",
    "print('holdout_predictions:', holdout_predictions)\n",
    "\n"
   ]
  },
  {
   "cell_type": "code",
   "execution_count": 28,
   "metadata": {},
   "outputs": [],
   "source": [
    "submission_df = {\"PassengerId\": holdout_ids,\n",
    "                 \"Survived\": holdout_predictions}\n",
    "submission = pd.DataFrame(submission_df)\n"
   ]
  },
  {
   "cell_type": "code",
   "execution_count": 29,
   "metadata": {},
   "outputs": [],
   "source": [
    "submission.to_csv('KaggleData/titanic_submission.csv', index=False)"
   ]
  },
  {
   "cell_type": "code",
   "execution_count": null,
   "metadata": {},
   "outputs": [],
   "source": []
  }
 ],
 "metadata": {
  "kernelspec": {
   "display_name": "Python 3",
   "language": "python",
   "name": "python3"
  },
  "language_info": {
   "codemirror_mode": {
    "name": "ipython",
    "version": 3
   },
   "file_extension": ".py",
   "mimetype": "text/x-python",
   "name": "python",
   "nbconvert_exporter": "python",
   "pygments_lexer": "ipython3",
   "version": "3.6.8"
  }
 },
 "nbformat": 4,
 "nbformat_minor": 2
}
