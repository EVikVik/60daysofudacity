{
 "cells": [
  {
   "cell_type": "markdown",
   "metadata": {},
   "source": [
    "## Lesson: Toy Differential Privacy - Simple Database Queries"
   ]
  },
  {
   "cell_type": "markdown",
   "metadata": {},
   "source": [
    "In this section we're going to play around with Differential Privacy in the context of a database query. The database is going to be a VERY simple database with only one boolean column. Each row corresponds to a person. Each value corresponds to whether or not that person has a certain private attribute (such as whether they have a certain disease, or whether they are above/below a certain age). We are then going to learn how to know whether a database query over such a small database is differentially private or not - and more importantly - what techniques are at our disposal to ensure various levels of privacy\n",
    "\n",
    "\n",
    "### First We Create a Simple Database\n",
    "\n",
    "Step one is to create our database - we're going to do this by initializing a random list of 1s and 0s (which are the entries in our database). Note - the number of entries directly corresponds to the number of people in our database."
   ]
  },
  {
   "cell_type": "code",
   "execution_count": 4,
   "metadata": {},
   "outputs": [
    {
     "data": {
      "text/plain": [
       "tensor([0, 1, 0,  ..., 1, 0, 0], dtype=torch.uint8)"
      ]
     },
     "execution_count": 4,
     "metadata": {},
     "output_type": "execute_result"
    }
   ],
   "source": [
    "import torch\n",
    "\n",
    "# the number of entries in our database\n",
    "num_entries = 5000\n",
    "\n",
    "db = torch.rand(num_entries) > 0.5\n",
    "db"
   ]
  },
  {
   "cell_type": "markdown",
   "metadata": {},
   "source": [
    "## Project: Generate Parallel Databases\n",
    "\n",
    "Key to the definition of differenital privacy is the ability to ask the question \"When querying a database, if I removed someone from the database, would the output of the query be any different?\". Thus, in order to check this, we must construct what we term \"parallel databases\" which are simply databases with one entry removed. \n",
    "\n",
    "In this first project, I want you to create a list of every parallel database to the one currently contained in the \"db\" variable. Then, I want you to create a function which both:\n",
    "\n",
    "- creates the initial database (db)\n",
    "- creates all parallel databases"
   ]
  },
  {
   "cell_type": "code",
   "execution_count": 5,
   "metadata": {},
   "outputs": [],
   "source": [
    "# try project here!\n",
    "def get_parallel_db(db, remove_index):\n",
    "    \n",
    "    return torch.cat((db[:remove_index], db[remove_index+1:]))"
   ]
  },
  {
   "cell_type": "code",
   "execution_count": 6,
   "metadata": {},
   "outputs": [
    {
     "data": {
      "text/plain": [
       "tensor([0, 1, 0, 0, 1], dtype=torch.uint8)"
      ]
     },
     "execution_count": 6,
     "metadata": {},
     "output_type": "execute_result"
    }
   ],
   "source": [
    "get_parallel_db(db, 2)[0:5]"
   ]
  },
  {
   "cell_type": "code",
   "execution_count": 7,
   "metadata": {},
   "outputs": [],
   "source": [
    "def get_parallel_dbs(db):\n",
    "    dbs = list()\n",
    "    for i in range(len(db)):\n",
    "        dbs.append(get_parallel_db(db, i))\n",
    "    \n",
    "    return dbs"
   ]
  },
  {
   "cell_type": "code",
   "execution_count": 8,
   "metadata": {},
   "outputs": [],
   "source": [
    "#get_parallel_dbs(db)"
   ]
  },
  {
   "cell_type": "code",
   "execution_count": 9,
   "metadata": {},
   "outputs": [
    {
     "name": "stdout",
     "output_type": "stream",
     "text": [
      "[tensor([1, 1], dtype=torch.uint8), tensor([0, 1], dtype=torch.uint8), tensor([0, 1], dtype=torch.uint8)]\n"
     ]
    },
    {
     "data": {
      "text/plain": [
       "3"
      ]
     },
     "execution_count": 9,
     "metadata": {},
     "output_type": "execute_result"
    }
   ],
   "source": [
    "def create_db_and_parallels(num_entries):\n",
    "    db = torch.rand(num_entries) > 0.5\n",
    "\n",
    "    return db, get_parallel_dbs(db)\n",
    "\n",
    "db_test, db_parallels_test = create_db_and_parallels(3)\n",
    "print(db_parallels_test[0:5])\n",
    "len(db_test)"
   ]
  },
  {
   "cell_type": "markdown",
   "metadata": {},
   "source": [
    "# Lesson: Towards Evaluating The Differential Privacy of a Function\n",
    "\n",
    "Intuitively, we want to be able to query our database and evaluate whether or not the result of the query is leaking \"private\" information. As mentioned previously, this is about evaluating whether the output of a query changes when we remove someone from the database. Specifically, we want to evaluate the *maximum* amount the query changes when someone is removed (maximum over all possible people who could be removed). So, in order to evaluate how much privacy is leaked, we're going to iterate over each person in the database and measure the difference in the output of the query relative to when we query the entire database. \n",
    "\n",
    "Just for the sake of argument, let's make our first \"database query\" a simple sum. Aka, we're going to count the number of 1s in the database."
   ]
  },
  {
   "cell_type": "code",
   "execution_count": 10,
   "metadata": {},
   "outputs": [],
   "source": [
    "db, pdbs = create_db_and_parallels(5000)"
   ]
  },
  {
   "cell_type": "code",
   "execution_count": 11,
   "metadata": {},
   "outputs": [],
   "source": [
    "def query(db):\n",
    "    return db.sum()"
   ]
  },
  {
   "cell_type": "code",
   "execution_count": 12,
   "metadata": {},
   "outputs": [],
   "source": [
    "full_db_result = query(db)"
   ]
  },
  {
   "cell_type": "code",
   "execution_count": 13,
   "metadata": {},
   "outputs": [],
   "source": [
    "sensitivity = 0\n",
    "for pdb in pdbs:\n",
    "    pdb_result = query(pdb)\n",
    "    \n",
    "    db_distance = torch.abs(pdb_result - full_db_result)\n",
    "    \n",
    "    if(db_distance > sensitivity):\n",
    "        sensitivity = db_distance"
   ]
  },
  {
   "cell_type": "code",
   "execution_count": 14,
   "metadata": {},
   "outputs": [
    {
     "data": {
      "text/plain": [
       "tensor(1)"
      ]
     },
     "execution_count": 14,
     "metadata": {},
     "output_type": "execute_result"
    }
   ],
   "source": [
    "sensitivity"
   ]
  },
  {
   "cell_type": "markdown",
   "metadata": {},
   "source": [
    "# Project - Evaluating the Privacy of a Function\n",
    "\n",
    "In the last section, we measured the difference between each parallel db's query result and the query result for the entire database and then calculated the max value (which was 1). This value is called \"sensitivity\", and it corresponds to the function we chose for the query. Namely, the \"sum\" query will always have a sensitivity of exactly 1. However, we can also calculate sensitivity for other functions as well.\n",
    "\n",
    "Let's try to calculate sensitivity for the \"mean\" function."
   ]
  },
  {
   "cell_type": "code",
   "execution_count": 15,
   "metadata": {},
   "outputs": [],
   "source": [
    "# try this project here!\n",
    "\n",
    "def sensitivity(query, n_entries=1000):\n",
    "    db, pdbs = create_db_and_parallels(n_entries)\n",
    "    \n",
    "    full_db_result = query(db)\n",
    "    \n",
    "    sens = 0\n",
    "    for pdb in pdbs:\n",
    "        pdb_result = query(pdb)\n",
    "        \n",
    "        dist = torch.abs(pdb_result - full_db_result)\n",
    "        \n",
    "        if(dist > sens):\n",
    "            sens = dist\n",
    "    \n",
    "    return sens"
   ]
  },
  {
   "cell_type": "code",
   "execution_count": 16,
   "metadata": {},
   "outputs": [],
   "source": [
    "def query(db):\n",
    "    return db.float().mean()"
   ]
  },
  {
   "cell_type": "code",
   "execution_count": 17,
   "metadata": {},
   "outputs": [
    {
     "data": {
      "text/plain": [
       "tensor(0.0005)"
      ]
     },
     "execution_count": 17,
     "metadata": {},
     "output_type": "execute_result"
    }
   ],
   "source": [
    "sensitivity(query)"
   ]
  },
  {
   "cell_type": "code",
   "execution_count": null,
   "metadata": {},
   "outputs": [],
   "source": []
  },
  {
   "cell_type": "code",
   "execution_count": null,
   "metadata": {},
   "outputs": [],
   "source": []
  },
  {
   "cell_type": "code",
   "execution_count": null,
   "metadata": {},
   "outputs": [],
   "source": []
  },
  {
   "cell_type": "code",
   "execution_count": null,
   "metadata": {},
   "outputs": [],
   "source": []
  },
  {
   "cell_type": "code",
   "execution_count": null,
   "metadata": {},
   "outputs": [],
   "source": []
  },
  {
   "cell_type": "markdown",
   "metadata": {},
   "source": [
    "Wow! That sensitivity is WAY lower. Note the intuition here. \"Sensitivity\" is measuring how sensitive the output of the query is to a person being removed from the database. For a simple sum, this is always 1, but for the mean, removing a person is going to change the result of the query by rougly 1 divided by the size of the database (which is much smaller). Thus, \"mean\" is a VASTLY less \"sensitive\" function (query) than SUM."
   ]
  },
  {
   "cell_type": "markdown",
   "metadata": {},
   "source": [
    "# Project: Calculate L1 Sensitivity For Threshold\n",
    "\n",
    "In this first project, I want you to calculate the sensitivty for the \"threshold\" function. \n",
    "\n",
    "- First compute the sum over the database (i.e. sum(db)) and return whether that sum is greater than a certain threshold.\n",
    "- Then, I want you to create databases of size 10 and threshold of 5 and calculate the sensitivity of the function. \n",
    "- Finally, re-initialize the database 10 times and calculate the sensitivity each time."
   ]
  },
  {
   "cell_type": "code",
   "execution_count": 18,
   "metadata": {},
   "outputs": [],
   "source": [
    "# try this project here!\n",
    "def compare(db, threshold=5):\n",
    "\n",
    "    return (db.sum() > threshold).float()"
   ]
  },
  {
   "cell_type": "code",
   "execution_count": 19,
   "metadata": {},
   "outputs": [
    {
     "name": "stdout",
     "output_type": "stream",
     "text": [
      "0\n",
      "tensor(1.)\n",
      "tensor(1.)\n",
      "tensor(1.)\n",
      "0\n",
      "tensor(1.)\n",
      "0\n",
      "0\n",
      "0\n",
      "0\n"
     ]
    }
   ],
   "source": [
    "for i in range(10):\n",
    "    print(sensitivity(compare, 10))"
   ]
  },
  {
   "cell_type": "code",
   "execution_count": null,
   "metadata": {},
   "outputs": [],
   "source": []
  },
  {
   "cell_type": "code",
   "execution_count": null,
   "metadata": {},
   "outputs": [],
   "source": []
  },
  {
   "cell_type": "markdown",
   "metadata": {},
   "source": [
    "# Lesson: A Basic Differencing Attack\n",
    "\n",
    "Sadly none of the functions we've looked at so far are differentially private (despite them having varying levels of sensitivity). The most basic type of attack can be done as follows.\n",
    "\n",
    "Let's say we wanted to figure out a specific person's value in the database. All we would have to do is query for the sum of the entire database and then the sum of the entire database without that person!\n",
    "\n",
    "# Project: Perform a Differencing Attack on Row 10\n",
    "\n",
    "In this project, I want you to construct a database and then demonstrate how you can use two different sum queries to explose the value of the person represented by row 10 in the database (note, you'll need to use a database with at least 10 rows)"
   ]
  },
  {
   "cell_type": "code",
   "execution_count": 20,
   "metadata": {},
   "outputs": [
    {
     "name": "stdout",
     "output_type": "stream",
     "text": [
      "tensor(1, dtype=torch.uint8)\n"
     ]
    },
    {
     "data": {
      "text/plain": [
       "tensor(49, dtype=torch.uint8)"
      ]
     },
     "execution_count": 20,
     "metadata": {},
     "output_type": "execute_result"
    }
   ],
   "source": [
    "# try this project here!\n",
    "db, _ = create_db_and_parallels(100)\n",
    "print(db[10])\n",
    "sum(db)"
   ]
  },
  {
   "cell_type": "code",
   "execution_count": 21,
   "metadata": {},
   "outputs": [],
   "source": [
    "pdb = get_parallel_db(db, remove_index=10)"
   ]
  },
  {
   "cell_type": "code",
   "execution_count": 22,
   "metadata": {},
   "outputs": [
    {
     "data": {
      "text/plain": [
       "tensor(1, dtype=torch.uint8)"
      ]
     },
     "execution_count": 22,
     "metadata": {},
     "output_type": "execute_result"
    }
   ],
   "source": [
    "# differencing attack using sum query\n",
    "sum(db) - sum(pdb)"
   ]
  },
  {
   "cell_type": "code",
   "execution_count": 23,
   "metadata": {},
   "outputs": [
    {
     "data": {
      "text/plain": [
       "tensor(0.0052)"
      ]
     },
     "execution_count": 23,
     "metadata": {},
     "output_type": "execute_result"
    }
   ],
   "source": [
    "# differencing attack using mean query\n",
    "(sum(db).float()/len(db)) - (sum(pdb).float()/len(pdb))"
   ]
  },
  {
   "cell_type": "code",
   "execution_count": 24,
   "metadata": {},
   "outputs": [
    {
     "data": {
      "text/plain": [
       "tensor(0, dtype=torch.uint8)"
      ]
     },
     "execution_count": 24,
     "metadata": {},
     "output_type": "execute_result"
    }
   ],
   "source": [
    "# differencing attack using threshold\n",
    "(sum(db).float() > 37) - (sum(pdb).float() > 37)"
   ]
  },
  {
   "cell_type": "code",
   "execution_count": null,
   "metadata": {},
   "outputs": [],
   "source": []
  },
  {
   "cell_type": "code",
   "execution_count": null,
   "metadata": {},
   "outputs": [],
   "source": []
  },
  {
   "cell_type": "code",
   "execution_count": null,
   "metadata": {},
   "outputs": [],
   "source": []
  },
  {
   "cell_type": "markdown",
   "metadata": {},
   "source": [
    "# Project: Local Differential Privacy\n",
    "\n",
    "As you can see, the basic sum query is not differentially private at all! In truth, differential privacy always requires a form of randomness added to the query. Let me show you what I mean.\n",
    "\n",
    "### Randomized Response (Local Differential Privacy)\n",
    "\n",
    "Let's say I have a group of people I wish to survey about a very taboo behavior which I think they will lie about (say, I want to know if they have ever committed a certain kind of crime). I'm not a policeman, I'm just trying to collect statistics to understand the higher level trend in society. So, how do we do this? One technique is to add randomness to each person's response by giving each person the following instructions (assuming I'm asking a simple yes/no question):\n",
    "\n",
    "- Flip a coin 2 times.\n",
    "- If the first coin flip is heads, answer honestly\n",
    "- If the first coin flip is tails, answer according to the second coin flip (heads for yes, tails for no)!\n",
    "\n",
    "Thus, each person is now protected with \"plausible deniability\". If they answer \"Yes\" to the question \"have you committed X crime?\", then it might becasue they actually did, or it might be becasue they are answering according to a random coin flip. Each person has a high degree of protection. Furthermore, we can recover the underlying statistics with some accuracy, as the \"true statistics\" are simply averaged with a 50% probability. Thus, if we collect a bunch of samples and it turns out that 60% of people answer yes, then we know that the TRUE distribution is actually centered around 70%, because 70% averaged wtih 50% (a coin flip) is 60% which is the result we obtained. \n",
    "\n",
    "However, it should be noted that, especially when we only have a few samples, the this comes at the cost of accuracy. This tradeoff exists across all of Differential Privacy. The greater the privacy protection (plausible deniability) the less accurate the results. \n",
    "\n",
    "Let's implement this local DP for our database before!"
   ]
  },
  {
   "cell_type": "code",
   "execution_count": 22,
   "metadata": {},
   "outputs": [
    {
     "name": "stdout",
     "output_type": "stream",
     "text": [
      "(tensor(0.9000), tensor(0.7000))\n",
      "(tensor(0.6600), tensor(0.5600))\n",
      "(tensor(0.4900), tensor(0.5160))\n",
      "(tensor(0.5060), tensor(0.5058))\n"
     ]
    }
   ],
   "source": [
    "# try this project here!\n",
    "import random\n",
    "\n",
    "def query(db):\n",
    "    true_result = torch.mean(db.float())\n",
    "    \n",
    "    first_flip  = torch.rand(len(db)) > 0.5\n",
    "    second_flip = torch.rand(len(db)) > 0.5\n",
    "\n",
    "    augmented_db = db*first_flip + (1 - first_flip)*second_flip\n",
    "    \n",
    "    db_result = torch.mean(augmented_db.float()) * 2 - 0.5\n",
    "    \n",
    "    return db_result, true_result\n",
    "\n",
    "db_size = [10, 100, 1000, 10000]\n",
    "\n",
    "for s in db_size:\n",
    "    db, _ = create_db_and_parallels(s)\n",
    "    print(query(db))"
   ]
  },
  {
   "cell_type": "code",
   "execution_count": null,
   "metadata": {},
   "outputs": [],
   "source": []
  },
  {
   "cell_type": "code",
   "execution_count": null,
   "metadata": {},
   "outputs": [],
   "source": []
  },
  {
   "cell_type": "code",
   "execution_count": null,
   "metadata": {},
   "outputs": [],
   "source": []
  },
  {
   "cell_type": "code",
   "execution_count": null,
   "metadata": {},
   "outputs": [],
   "source": []
  },
  {
   "cell_type": "code",
   "execution_count": null,
   "metadata": {},
   "outputs": [],
   "source": []
  },
  {
   "cell_type": "code",
   "execution_count": null,
   "metadata": {},
   "outputs": [],
   "source": []
  },
  {
   "cell_type": "code",
   "execution_count": null,
   "metadata": {},
   "outputs": [],
   "source": []
  },
  {
   "cell_type": "code",
   "execution_count": null,
   "metadata": {},
   "outputs": [],
   "source": []
  },
  {
   "cell_type": "markdown",
   "metadata": {},
   "source": [
    "# Project: Varying Amounts of Noise\n",
    "\n",
    "In this project, I want you to augment the randomized response query (the one we just wrote) to allow for varying amounts of randomness to be added. Specifically, I want you to bias the coin flip to be higher or lower and then run the same experiment. \n",
    "\n",
    "Note - this one is a bit tricker than you might expect. You need to both adjust the likelihood of the first coin flip AND the de-skewing at the end (where we create the \"augmented_result\" variable)."
   ]
  },
  {
   "cell_type": "code",
   "execution_count": 25,
   "metadata": {},
   "outputs": [
    {
     "name": "stdout",
     "output_type": "stream",
     "text": [
      "(tensor(0.5000), tensor(0.3000))\n",
      "(tensor(0.6400), tensor(0.5200))\n",
      "(tensor(0.5660), tensor(0.5270))\n",
      "(tensor(0.5082), tensor(0.5064))\n"
     ]
    }
   ],
   "source": [
    "# try this project here!\n",
    "def query(db, noise=0.2):\n",
    "    true_result = torch.mean(db.float())\n",
    "    \n",
    "    first_flip  = torch.rand(len(db)) > noise\n",
    "    second_flip = torch.rand(len(db)) > 1 - 0.5\n",
    "\n",
    "    augmented_db = db*first_flip + (1 - first_flip)*second_flip\n",
    "    \n",
    "    db_result = (torch.mean(augmented_db.float()) - 0.5 * noise) / (1 - noise)\n",
    "    \n",
    "    return db_result, true_result\n",
    "\n",
    "db_size = [10, 100, 1000, 10000]\n",
    "\n",
    "for s in db_size:\n",
    "    db, _ = create_db_and_parallels(s)\n",
    "    print(query(db, 0.5))"
   ]
  },
  {
   "cell_type": "code",
   "execution_count": null,
   "metadata": {},
   "outputs": [],
   "source": []
  },
  {
   "cell_type": "code",
   "execution_count": null,
   "metadata": {},
   "outputs": [],
   "source": []
  },
  {
   "cell_type": "code",
   "execution_count": null,
   "metadata": {},
   "outputs": [],
   "source": []
  },
  {
   "cell_type": "code",
   "execution_count": null,
   "metadata": {},
   "outputs": [],
   "source": []
  },
  {
   "cell_type": "code",
   "execution_count": null,
   "metadata": {},
   "outputs": [],
   "source": []
  },
  {
   "cell_type": "code",
   "execution_count": null,
   "metadata": {},
   "outputs": [],
   "source": []
  },
  {
   "cell_type": "code",
   "execution_count": null,
   "metadata": {},
   "outputs": [],
   "source": []
  },
  {
   "cell_type": "code",
   "execution_count": null,
   "metadata": {},
   "outputs": [],
   "source": []
  },
  {
   "cell_type": "code",
   "execution_count": null,
   "metadata": {},
   "outputs": [],
   "source": []
  },
  {
   "cell_type": "markdown",
   "metadata": {},
   "source": [
    "# Lesson: The Formal Definition of Differential Privacy\n",
    "\n",
    "The previous method of adding noise was called \"Local Differentail Privacy\" because we added noise to each datapoint individually. This is necessary for some situations wherein the data is SO sensitive that individuals do not trust noise to be added later. However, it comes at a very high cost in terms of accuracy. \n",
    "\n",
    "However, alternatively we can add noise AFTER data has been aggregated by a function. This kind of noise can allow for similar levels of protection with a lower affect on accuracy. However, participants must be able to trust that no-one looked at their datapoints _before_ the aggregation took place. In some situations this works out well, in others (such as an individual hand-surveying a group of people), this is less realistic.\n",
    "\n",
    "Nevertheless, global differential privacy is incredibly important because it allows us to perform differential privacy on smaller groups of individuals with lower amounts of noise. Let's revisit our sum functions."
   ]
  },
  {
   "cell_type": "code",
   "execution_count": 26,
   "metadata": {},
   "outputs": [
    {
     "data": {
      "text/plain": [
       "tensor(47.)"
      ]
     },
     "execution_count": 26,
     "metadata": {},
     "output_type": "execute_result"
    }
   ],
   "source": [
    "db, pdbs = create_db_and_parallels(100)\n",
    "\n",
    "def query(db):\n",
    "    return torch.sum(db.float())\n",
    "\n",
    "def M(db):\n",
    "    query(db) + noise\n",
    "\n",
    "query(db)"
   ]
  },
  {
   "cell_type": "markdown",
   "metadata": {},
   "source": [
    "So the idea here is that we want to add noise to the output of our function. We actually have two different kinds of noise we can add - Laplacian Noise or Gaussian Noise. However, before we do so at this point we need to dive into the formal definition of Differential Privacy.\n",
    "\n",
    "![alt text](dp_formula.png \"Title\")"
   ]
  },
  {
   "cell_type": "markdown",
   "metadata": {},
   "source": [
    "_Image From: \"The Algorithmic Foundations of Differential Privacy\" - Cynthia Dwork and Aaron Roth - https://www.cis.upenn.edu/~aaroth/Papers/privacybook.pdf_"
   ]
  },
  {
   "cell_type": "markdown",
   "metadata": {},
   "source": [
    "This definition does not _create_ differential privacy, instead it is a measure of how much privacy is afforded by a query M. Specifically, it's a comparison between running the query M on a database (x) and a parallel database (y). As you remember, parallel databases are defined to be the same as a full database (x) with one entry/person removed.\n",
    "\n",
    "Thus, this definition says that FOR ALL parallel databases, the maximum distance between a query on database (x) and the same query on database (y) will be e^epsilon, but that occasionally this constraint won't hold with probability delta. Thus, this theorem is called \"epsilon delta\" differential privacy.\n",
    "\n",
    "# Epsilon\n",
    "\n",
    "Let's unpack the intuition of this for a moment. \n",
    "\n",
    "Epsilon Zero: If a query satisfied this inequality where epsilon was set to 0, then that would mean that the query for all parallel databases outputed the exact same value as the full database. As you may remember, when we calculated the \"threshold\" function, often the Sensitivity was 0. In that case, the epsilon also happened to be zero.\n",
    "\n",
    "Epsilon One: If a query satisfied this inequality with epsilon 1, then the maximum distance between all queries would be 1 - or more precisely - the maximum distance between the two random distributions M(x) and M(y) is 1 (because all these queries have some amount of randomness in them, just like we observed in the last section).\n",
    "\n",
    "# Delta\n",
    "\n",
    "Delta is basically the probability that epsilon breaks. Namely, sometimes the epsilon is different for some queries than it is for others. For example, you may remember when we were calculating the sensitivity of threshold, most of the time sensitivity was 0 but sometimes it was 1. Thus, we could calculate this as \"epsilon zero but non-zero delta\" which would say that epsilon is perfect except for some probability of the time when it's arbitrarily higher. Note that this expression doesn't represent the full tradeoff between epsilon and delta."
   ]
  },
  {
   "cell_type": "markdown",
   "metadata": {},
   "source": [
    "# Lesson: How To Add Noise for Global Differential Privacy\n",
    "\n",
    "In this lesson, we're going to learn about how to take a query and add varying amounts of noise so that it satisfies a certain degree of differential privacy. In particular, we're going to leave behind the Local Differential privacy previously discussed and instead opt to focus on Global differential privacy. \n",
    "\n",
    "So, to sum up, this lesson is about adding noise to the output of our query so that it satisfies a certain epsilon-delta differential privacy threshold.\n",
    "\n",
    "There are two kinds of noise we can add - Gaussian Noise or Laplacian Noise. Generally speaking Laplacian is better, but both are still valid. Now to the hard question...\n",
    "\n",
    "### How much noise should we add?\n",
    "\n",
    "The amount of noise necessary to add to the output of a query is a function of four things:\n",
    "\n",
    "- the type of noise (Gaussian/Laplacian)\n",
    "- the sensitivity of the query/function\n",
    "- the desired epsilon (ε)\n",
    "- the desired delta (δ)\n",
    "\n",
    "Thus, for each type of noise we're adding, we have different way of calculating how much to add as a function of sensitivity, epsilon, and delta. We're going to focus on Laplacian noise. Laplacian noise is increased/decreased according to a \"scale\" parameter b. We choose \"b\" based on the following formula.\n",
    "\n",
    "b = sensitivity(query) / epsilon\n",
    "\n",
    "In other words, if we set b to be this value, then we know that we will have a privacy leakage of <= epsilon. Furthermore, the nice thing about Laplace is that it guarantees this with delta == 0. There are some tunings where we can have very low epsilon where delta is non-zero, but we'll ignore them for now.\n",
    "\n",
    "### Querying Repeatedly\n",
    "\n",
    "- if we query the database multiple times - we can simply add the epsilons (Even if we change the amount of noise and their epsilons are not the same)."
   ]
  },
  {
   "cell_type": "code",
   "execution_count": null,
   "metadata": {},
   "outputs": [],
   "source": []
  },
  {
   "cell_type": "markdown",
   "metadata": {},
   "source": [
    "# Project: Create a Differentially Private Query\n",
    "\n",
    "In this project, I want you to take what you learned in the previous lesson and create a query function which sums over the database and adds just the right amount of noise such that it satisfies an epsilon constraint. Write a query for both \"sum\" and for \"mean\". Ensure that you use the correct sensitivity measures for both."
   ]
  },
  {
   "cell_type": "code",
   "execution_count": 27,
   "metadata": {},
   "outputs": [],
   "source": [
    "# try this project here!\n",
    "import numpy as np\n",
    "epsilon = 0.5\n",
    "db, pdbs = create_db_and_parallels(100)"
   ]
  },
  {
   "cell_type": "code",
   "execution_count": 28,
   "metadata": {},
   "outputs": [],
   "source": [
    "def sum_query(db):\n",
    "    return db.sum()"
   ]
  },
  {
   "cell_type": "code",
   "execution_count": 29,
   "metadata": {},
   "outputs": [],
   "source": [
    "def laplacian_mechanism(db, query, sensitivity):\n",
    "    beta = sensitivity / epsilon\n",
    "    noise = torch.tensor(np.random.laplace(0, beta, 1))\n",
    "    \n",
    "    return query(db) + noise"
   ]
  },
  {
   "cell_type": "code",
   "execution_count": 30,
   "metadata": {},
   "outputs": [
    {
     "data": {
      "text/plain": [
       "tensor([50.1202], dtype=torch.float64)"
      ]
     },
     "execution_count": 30,
     "metadata": {},
     "output_type": "execute_result"
    }
   ],
   "source": [
    "laplacian_mechanism(db, sum_query, 1)"
   ]
  },
  {
   "cell_type": "code",
   "execution_count": 31,
   "metadata": {},
   "outputs": [],
   "source": [
    "def mean_query(db):\n",
    "    return torch.mean(db.float())"
   ]
  },
  {
   "cell_type": "code",
   "execution_count": 32,
   "metadata": {},
   "outputs": [
    {
     "data": {
      "text/plain": [
       "tensor([0.4409], dtype=torch.float64)"
      ]
     },
     "execution_count": 32,
     "metadata": {},
     "output_type": "execute_result"
    }
   ],
   "source": [
    "laplacian_mechanism(db, mean_query, 1/100)"
   ]
  },
  {
   "cell_type": "code",
   "execution_count": 33,
   "metadata": {},
   "outputs": [
    {
     "data": {
      "text/plain": [
       "tensor(49, dtype=torch.uint8)"
      ]
     },
     "execution_count": 33,
     "metadata": {},
     "output_type": "execute_result"
    }
   ],
   "source": [
    "sum(db)"
   ]
  },
  {
   "cell_type": "code",
   "execution_count": null,
   "metadata": {},
   "outputs": [],
   "source": []
  },
  {
   "cell_type": "code",
   "execution_count": null,
   "metadata": {},
   "outputs": [],
   "source": []
  },
  {
   "cell_type": "markdown",
   "metadata": {},
   "source": [
    "# Lesson: Differential Privacy for Deep Learning\n",
    "\n",
    "So in the last lessons you may have been wondering - what does all of this have to do with Deep Learning? Well, these same techniques we were just studying form the core primitives for how Differential Privacy provides guarantees in the context of Deep Learning. \n",
    "\n",
    "Previously, we defined perfect privacy as \"a query to a database returns the same value even if we remove any person from the database\", and used this intuition in the description of epsilon/delta. In the context of deep learning we have a similar standard.\n",
    "\n",
    "Training a model on a dataset should return the same model even if we remove any person from the dataset.\n",
    "\n",
    "Thus, we've replaced \"querying a database\" with \"training a model on a dataset\". In essence, the training process is a kind of query. However, one should note that this adds two points of complexity which database queries did not have:\n",
    "\n",
    "    1. do we always know where \"people\" are referenced in the dataset?\n",
    "    2. neural models rarely never train to the same output model, even on identical data\n",
    "\n",
    "The answer to (1) is to treat each training example as a single, separate person. Strictly speaking, this is often overly zealous as some training examples have no relevance to people and others may have multiple/partial (consider an image with multiple people contained within it). Thus, localizing exactly where \"people\" are referenced, and thus how much your model would change if people were removed, is challenging.\n",
    "\n",
    "The answer to (2) is also an open problem - but several interesitng proposals have been made. We're going to focus on one of the most popular proposals, PATE.\n",
    "\n",
    "## An Example Scenario: A Health Neural Network\n",
    "\n",
    "First we're going to consider a scenario - you work for a hospital and you have a large collection of images about your patients. However, you don't know what's in them. You would like to use these images to develop a neural network which can automatically classify them, however since your images aren't labeled, they aren't sufficient to train a classifier. \n",
    "\n",
    "However, being a cunning strategist, you realize that you can reach out to 10 partner hospitals which DO have annotated data. It is your hope to train your new classifier on their datasets so that you can automatically label your own. While these hospitals are interested in helping, they have privacy concerns regarding information about their patients. Thus, you will use the following technique to train a classifier which protects the privacy of patients in the other hospitals.\n",
    "\n",
    "- 1) You'll ask each of the 10 hospitals to train a model on their own datasets (All of which have the same kinds of labels)\n",
    "- 2) You'll then use each of the 10 partner models to predict on your local dataset, generating 10 labels for each of your datapoints\n",
    "- 3) Then, for each local data point (now with 10 labels), you will perform a DP query to generate the final true label. This query is a \"max\" function, where \"max\" is the most frequent label across the 10 labels. We will need to add laplacian noise to make this Differentially Private to a certain epsilon/delta constraint.\n",
    "- 4) Finally, we will retrain a new model on our local dataset which now has labels. This will be our final \"DP\" model.\n",
    "\n",
    "So, let's walk through these steps. I will assume you're already familiar with how to train/predict a deep neural network, so we'll skip steps 1 and 2 and work with example data. We'll focus instead on step 3, namely how to perform the DP query for each example using toy data.\n",
    "\n",
    "So, let's say we have 10,000 training examples, and we've got 10 labels for each example (from our 10 \"teacher models\" which were trained directly on private data). Each label is chosen from a set of 10 possible labels (categories) for each image."
   ]
  },
  {
   "cell_type": "code",
   "execution_count": 34,
   "metadata": {},
   "outputs": [],
   "source": [
    "import numpy as np"
   ]
  },
  {
   "cell_type": "code",
   "execution_count": 35,
   "metadata": {},
   "outputs": [],
   "source": [
    "num_teachers = 10 # we're working with 10 partner hospitals\n",
    "num_examples = 10000 # the size of OUR dataset\n",
    "num_labels = 10 # number of lablels for our classifier"
   ]
  },
  {
   "cell_type": "code",
   "execution_count": 36,
   "metadata": {},
   "outputs": [
    {
     "name": "stdout",
     "output_type": "stream",
     "text": [
      "(10000, 10)\n",
      "[[1.81028246 6.75041744 2.03891303 ... 5.35245285 9.01951649 1.60039131]\n",
      " [3.01367145 1.50884652 8.04475856 ... 1.54378142 2.40915615 8.4131584 ]\n",
      " [7.22004577 6.87079848 4.89952003 ... 3.33142128 2.90995471 9.0400604 ]\n",
      " ...\n",
      " [0.6013339  7.4706878  5.85506119 ... 6.23549889 6.72634103 0.1139307 ]\n",
      " [3.66313222 6.23198197 1.98391347 ... 9.30351779 8.42227666 6.80285846]\n",
      " [5.21923609 6.22057442 8.87203923 ... 5.93519639 9.9150008  2.91554214]]\n",
      "[[1 3 7 ... 0 3 5]\n",
      " [6 1 6 ... 7 6 6]\n",
      " [2 8 4 ... 5 1 8]\n",
      " ...\n",
      " [5 1 3 ... 6 9 5]\n",
      " [9 2 2 ... 6 8 9]\n",
      " [1 8 9 ... 0 6 2]]\n"
     ]
    }
   ],
   "source": [
    "preds = (np.random.rand(num_teachers, num_examples) * num_labels).astype(int).transpose(1,0) # fake predictions\n",
    "x = np.random.rand(num_teachers, num_examples)\n",
    "print(preds.shape)\n",
    "print(x * num_labels)\n",
    "print( (x * num_labels).astype(int).transpose(1,0) )"
   ]
  },
  {
   "cell_type": "code",
   "execution_count": 37,
   "metadata": {},
   "outputs": [
    {
     "name": "stdout",
     "output_type": "stream",
     "text": [
      "[1, 5, 2, 1, 3, 1, 7, 3, 9, 1, 2, 2, 0, 4, 6, 5, 4, 2, 5, 9, 8, 3, 2, 4, 4, 2, 3, 9, 0, 5, 6, 3, 2, 3, 0, 1, 4, 5, 1, 5, 3, 6, 8, 1, 2, 4, 8, 1, 9, 7, 5, 2, 7, 0, 7, 4, 7, 2, 0, 9, 3, 0, 1, 5, 9, 0, 2, 8, 2, 2, 1, 6, 3, 9, 4, 2, 7, 5, 5, 5, 4, 1, 7, 8, 3, 1, 7, 9, 8, 4, 2, 1, 0, 7, 4, 5, 0, 0, 6, 1, 0, 3, 8, 8, 9, 0, 6, 8, 5, 9, 1, 8, 2, 2, 8, 9, 5, 6, 3, 2, 7, 7, 3, 5, 0, 2, 4, 6, 2, 4, 8, 2, 0, 4, 0, 0, 7, 8, 5, 4, 6, 9, 1, 2, 5, 6, 2, 8, 2, 9, 4, 0, 1, 5, 8, 1, 2, 6, 5, 2, 2, 5, 5, 6, 2, 1, 8, 0, 1, 8, 1, 4, 5, 0, 3, 9, 5, 0, 2, 0, 9, 5, 5, 0, 7, 4, 0, 2, 3, 3, 7, 0, 1, 0, 5, 1, 1, 7, 4, 5, 4, 0, 6, 5, 6, 4, 8, 5, 2, 0, 9, 8, 9, 3, 7, 9, 0, 9, 8, 1, 2, 1, 9, 4, 9, 1, 4, 8, 4, 0, 6, 2, 7, 5, 6, 4, 9, 3, 0, 0, 3, 7, 5, 3, 0, 3, 3, 8, 9, 0, 9, 2, 1, 7, 1, 9, 6, 1, 4, 0, 9, 1, 4, 0, 0, 3, 6, 1, 8, 9, 1, 9, 2, 6, 8, 9, 3, 8, 9, 9, 5, 5, 0, 8, 7, 7, 5, 7, 5, 2, 5, 3, 3, 1, 4, 5, 1, 4, 4, 9, 0, 5, 9, 9, 1, 5, 9, 5, 0, 2, 9, 5, 3, 1, 4, 4, 2, 6, 1, 7, 7, 0, 8, 8, 8, 6, 9, 6, 2, 8, 8, 9, 0, 0, 1, 5, 6, 6, 3, 1, 1, 4, 2, 3, 1, 5, 9, 7, 4, 4, 7, 0, 6, 8, 0, 2, 4, 7, 5, 3, 4, 7, 4, 8, 4, 2, 3, 4, 2, 0, 0, 7, 3, 1, 2, 9, 1, 9, 3, 9, 9, 6, 1, 0, 6, 5, 4, 4, 4, 5, 3, 3, 1, 4, 6, 6, 9, 7, 3, 9, 3, 1, 7, 0, 1, 2, 7, 0, 1, 6, 9, 3, 0, 2, 4, 9, 3, 2, 1, 1, 9, 0, 1, 4, 2, 6, 2, 9, 9, 1, 5, 2, 0, 1, 5, 7, 9, 0, 4, 5, 0, 2, 1, 4, 7, 6, 9, 6, 8, 8, 6, 9, 2, 3, 4, 3, 3, 3, 6, 1, 2, 2, 3, 3, 2, 2, 1, 8, 0, 3, 3, 1, 0, 1, 6, 7, 6, 8, 9, 4, 9, 3, 1, 6, 9, 8, 5, 6, 4, 9, 0, 5, 1, 0, 2, 4, 3, 6, 1, 2, 1, 1, 4, 4, 2, 0, 4, 2, 1, 7, 4, 7, 5, 9, 6, 6, 7, 2, 2, 6, 2, 1, 2, 1, 5, 4, 0, 6, 2, 3, 6, 4, 1, 4, 2, 2, 0, 0, 4, 4, 6, 0, 0, 1, 5, 4, 7, 3, 6, 7, 4, 3, 6, 2, 0, 4, 5, 9, 2, 8, 1, 5, 6, 3, 5, 0, 1, 3, 2, 5, 7, 6, 9, 9, 9, 5, 6, 3, 3, 1, 5, 5, 3, 1, 5, 1, 7, 0, 0, 5, 0, 2, 3, 2, 9, 8, 3, 8, 7, 9, 3, 4, 5, 7, 8, 8, 9, 5, 8, 5, 4, 7, 1, 3, 5, 5, 2, 7, 1, 0, 4, 1, 5, 4, 9, 7, 2, 4, 8, 3, 8, 1, 2, 8, 8, 9, 0, 5, 9, 1, 1, 0, 0, 6, 1, 0, 1, 5, 2, 6, 5, 0, 0, 7, 2, 0, 6, 3, 5, 2, 4, 4, 4, 8, 0, 3, 4, 6, 6, 1, 3, 8, 7, 4, 9, 5, 2, 6, 9, 6, 7, 8, 9, 6, 3, 9, 1, 4, 8, 0, 8, 5, 7, 0, 9, 4, 7, 2, 7, 3, 1, 0, 6, 1, 4, 4, 6, 0, 5, 7, 1, 6, 6, 4, 6, 1, 8, 0, 1, 3, 2, 9, 8, 4, 8, 8, 1, 1, 3, 7, 3, 8, 6, 4, 6, 3, 9, 9, 2, 8, 9, 1, 7, 4, 3, 4, 2, 9, 0, 1, 6, 2, 2, 1, 1, 7, 5, 7, 3, 9, 6, 5, 7, 0, 8, 6, 8, 1, 4, 3, 3, 3, 0, 2, 3, 1, 4, 9, 3, 7, 4, 8, 7, 0, 3, 9, 0, 1, 7, 2, 2, 1, 9, 8, 0, 8, 8, 0, 1, 1, 6, 8, 5, 1, 6, 7, 9, 8, 0, 6, 7, 9, 1, 0, 2, 1, 8, 8, 4, 8, 3, 2, 8, 6, 3, 0, 8, 5, 9, 2, 8, 0, 7, 2, 6, 0, 0, 6, 5, 8, 8, 0, 4, 2, 1, 3, 1, 8, 0, 6, 3, 9, 7, 6, 7, 0, 7, 9, 4, 1, 1, 2, 3, 7, 5, 9, 8, 0, 2, 3, 5, 4, 3, 6, 2, 1, 5, 0, 4, 1, 0, 8, 7, 5, 8, 6, 4, 9, 9, 5, 7, 9, 6, 0, 6, 5, 6, 2, 2, 9, 4, 8, 0, 8, 1, 3, 8, 6, 0, 9, 3, 7, 0, 5, 0, 5, 9, 7, 8, 0, 1, 1, 3, 7, 5, 3, 5, 3, 2, 3, 1, 1, 8, 9, 1, 8, 7, 4, 4, 2, 0, 5, 5, 8, 4, 1, 3, 6, 1, 6, 9, 2, 6, 8, 2, 1, 2, 0, 1, 8, 6, 1, 7, 8, 9, 7, 5, 6, 1, 1, 1, 4, 4, 8, 4, 0, 8, 3, 1, 1, 7, 2, 6, 6, 1, 0, 6, 4, 2, 2, 2, 9, 5, 5, 0, 6, 8, 3, 5, 4, 7, 3, 5, 8, 4, 6, 9, 1, 9, 7, 0, 7, 0, 8, 1, 4, 4, 7, 6, 4, 1, 4, 7, 2, 1, 0, 4, 5, 3, 5, 9, 2, 0, 2, 2, 0, 2, 3, 6, 3, 1, 3, 5, 3, 3, 9, 7, 1, 2, 2, 2, 0, 3, 5, 8, 9, 9, 0, 4, 1, 4, 9, 3, 2, 3, 5, 7, 3, 7, 3, 1, 3, 3, 6, 3, 0, 0, 0, 4, 9, 6, 8, 5, 1, 1, 2, 1, 8, 2, 1, 7, 2, 8, 0, 8, 6, 0, 1, 0, 6, 9, 5, 3, 1, 4, 3, 9, 9, 7, 7, 1, 8, 2, 6, 2, 0, 0, 6, 6, 4, 6, 1, 0, 1, 1, 5, 4, 5, 3, 1, 7, 3, 5, 1, 6, 0, 1, 8, 5, 6, 8, 8, 8, 3, 5, 9, 9, 7, 6, 6, 1, 1, 9, 1, 0, 9, 9, 2, 6, 0, 4, 6, 4, 7, 8, 0, 8, 0, 6, 4, 7, 1, 9, 1, 8, 6, 6, 8, 3, 8, 5, 2, 1, 5, 1, 6, 5, 1, 9, 8, 1, 5, 6, 3, 4, 7, 5, 5, 9, 1, 3, 8, 1, 9, 4, 4, 0, 5, 1, 7, 8, 7, 5, 0, 6, 5, 9, 0, 4, 4, 2, 2, 5, 7, 3, 3, 1, 4, 3, 2, 3, 7, 5, 9, 8, 9, 0, 3, 2, 6, 8, 3, 4, 5, 8, 3, 8, 5, 2, 2, 3, 3, 0, 7, 0, 8, 6, 7, 6, 1, 5, 0, 7, 4, 0, 6, 8, 1, 4, 5, 5, 2, 9, 4, 6, 3, 2, 0, 5, 4, 0, 6, 6, 9, 4, 0, 1, 9, 0, 2, 9, 5, 6, 2, 4, 2, 8, 6, 8, 2, 6, 5, 8, 9, 5, 0, 1, 3, 7, 9, 8, 5, 0, 1, 6, 8, 0, 6, 1, 3, 1, 9, 0, 9, 4, 6, 6, 1, 9, 0, 9, 1, 1, 0, 5, 1, 8, 1, 7, 9, 9, 8, 9, 9, 5, 1, 7, 3, 0, 7, 9, 8, 2, 9, 0, 3, 7, 6, 7, 4, 0, 9, 3, 8, 6, 1, 7, 4, 8, 1, 4, 4, 6, 4, 2, 9, 8, 8, 6, 0, 5, 7, 2, 3, 8, 3, 3, 1, 8, 3, 5, 6, 6, 0, 0, 9, 0, 9, 4, 3, 1, 0, 2, 5, 8, 3, 3, 8, 0, 3, 8, 0, 7, 8, 8, 5, 2, 0, 8, 1, 5, 0, 5, 7, 0, 9, 1, 0, 9, 5, 9, 5, 2, 8, 5, 4, 8, 3, 9, 0, 7, 1, 9, 8, 9, 9, 3, 6, 5, 2, 8, 0, 2, 0, 1, 3, 0, 6, 5, 5, 0, 6, 3, 6, 2, 3, 7, 8, 4, 2, 5, 0, 4, 7, 2, 7, 1, 8, 0, 0, 4, 2, 4, 6, 2, 1, 0, 8, 6, 6, 8, 0, 8, 5, 4, 1, 1, 9, 8, 3, 0, 6, 7, 0, 5, 0, 3, 2, 1, 6, 5, 5, 0, 0, 9, 1, 1, 7, 6, 3, 4, 3, 7, 2, 8, 8, 2, 2, 7, 1, 2, 5, 8, 2, 4, 4, 8, 5, 8, 5, 9, 7, 3, 3, 6, 8, 0, 7, 6, 3, 4, 9, 5, 6, 2, 8, 9, 0, 7, 4, 6, 4, 4, 7, 2, 7, 6, 5, 6, 2, 1, 7, 6, 2, 1, 8, 4, 5, 3, 2, 7, 7, 2, 3, 4, 8, 4, 0, 8, 2, 7, 3, 1, 5, 4, 0, 0, 8, 2, 5, 6, 6, 9, 3, 9, 6, 6, 6, 0, 4, 0, 6, 3, 1, 5, 6, 3, 0, 7, 3, 5, 5, 9, 9, 8, 1, 4, 0, 8, 1, 0, 5, 4, 3, 0, 1, 7, 7, 2, 6, 0, 7, 6, 6, 3, 4, 1, 5, 7, 0, 5, 5, 8, 6, 7, 9, 3, 4, 1, 9, 7, 9, 8, 5, 3, 6, 5, 1, 8, 9, 7, 0, 4, 1, 2, 5, 8, 3, 4, 2, 7, 0, 7, 8, 9, 6, 2, 3, 5, 1, 1, 2, 2, 3, 5, 7, 4, 6, 2, 8, 3, 7, 8, 9, 1, 9, 2, 8, 5, 1, 7, 5, 3, 6, 7, 9, 7, 3, 9, 0, 3, 2, 1, 2, 4, 8, 0, 0, 2, 6, 5, 1, 4, 5, 5, 2, 0, 0, 4, 5, 4, 0, 2, 8, 7, 4, 2, 2, 9, 4, 3, 4, 3, 1, 2, 2, 0, 1, 9, 8, 3, 9, 0, 7, 7, 0, 6, 9, 9, 6, 9, 7, 3, 4, 5, 9, 8, 9, 7, 0, 4, 5, 8, 0, 5, 3, 5, 2, 9, 2, 1, 5, 8, 6, 8, 5, 0, 5, 6, 1, 8, 2, 7, 9, 9, 2, 9, 6, 5, 1, 3, 1, 3, 4, 0, 0, 8, 1, 0, 6, 8, 7, 5, 4, 9, 2, 3, 6, 5, 1, 5, 3, 5, 6, 5, 4, 7, 0, 4, 3, 0, 0, 2, 8, 5, 1, 1, 2, 7, 1, 2, 6, 1, 0, 7, 1, 9, 4, 4, 8, 1, 1, 2, 5, 2, 5, 3, 5, 1, 0, 4, 8, 6, 1, 7, 5, 5, 9, 0, 4, 7, 0, 5, 2, 1, 9, 0, 5, 4, 1, 0, 0, 5, 5, 0, 4, 7, 2, 1, 0, 2, 5, 4, 5, 4, 4, 2, 2, 6, 9, 7, 1, 7, 8, 6, 6, 0, 1, 9, 8, 7, 8, 8, 3, 7, 9, 4, 1, 1, 6, 2, 2, 0, 8, 1, 0, 1, 4, 6, 4, 9, 0, 1, 7, 7, 8, 4, 7, 9, 7, 2, 8, 9, 8, 4, 3, 0, 5, 3, 4, 3, 0, 6, 7, 8, 6, 7, 7, 8, 5, 7, 0, 8, 9, 6, 5, 2, 4, 7, 9, 4, 8, 1, 9, 8, 0, 7, 2, 0, 3, 0, 2, 4, 5, 9, 1, 7, 0, 2, 7, 0, 1, 6, 3, 6, 1, 3, 9, 2, 3, 1, 3, 1, 9, 6, 2, 2, 2, 1, 4, 1, 8, 6, 5, 7, 7, 3, 5, 6, 4, 2, 9, 6, 6, 7, 8, 9, 9, 2, 8, 6, 1, 4, 4, 9, 5, 7, 9, 3, 7, 5, 7, 1, 7, 4, 3, 6, 6, 5, 6, 3, 9, 5, 8, 5, 6, 1, 4, 0, 4, 8, 2, 8, 6, 8, 4, 8, 7, 5, 9, 7, 0, 6, 5, 3, 0, 2, 2, 5, 4, 7, 8, 5, 1, 0, 6, 9, 0, 6, 4, 6, 1, 7, 7, 2, 4, 7, 9, 5, 3, 4, 1, 2, 7, 4, 0, 0, 4, 3, 5, 2, 3, 8, 1, 5, 6, 7, 3, 5, 4, 9, 3, 8, 5, 9, 7, 9, 7, 3, 7, 7, 7, 1, 8, 8, 2, 8, 9, 8, 3, 8, 3, 0, 1, 7, 0, 0, 5, 9, 4, 6, 1, 4, 1, 8, 6, 3, 6, 3, 4, 6, 8, 1, 5, 3, 0, 2, 4, 3, 9, 4, 9, 6, 4, 5, 2, 1, 1, 7, 5, 6, 3, 9, 8, 3, 9, 9, 7, 2, 8, 5, 8, 1, 0, 0, 2, 0, 2, 5, 0, 2, 2, 7, 9, 4, 2, 5, 2, 9, 0, 8, 7, 2, 4, 1, 3, 9, 9, 7, 7, 8, 1, 5, 8, 6, 4, 9, 1, 8, 2, 6, 6, 1, 2, 8, 9, 5, 0, 8, 3, 6, 1, 8, 5, 8, 3, 7, 3, 6, 6, 1, 3, 2, 6, 2, 6, 9, 5, 5, 7, 8, 4, 4, 4, 7, 2, 1, 6, 3, 4, 2, 2, 2, 5, 8, 7, 7, 8, 9, 9, 4, 8, 4, 5, 4, 1, 9, 7, 2, 0, 9, 9, 3, 5, 5, 4, 0, 9, 0, 2, 9, 8, 4, 1, 7, 3, 8, 8, 4, 9, 7, 9, 2, 2, 7, 3, 7, 6, 6, 5, 0, 3, 0, 2, 9, 0, 9, 8, 6, 0, 0, 7, 2, 6, 0, 8, 5, 9, 5, 2, 8, 7, 7, 3, 5, 5, 1, 1, 0, 6, 3, 0, 6, 0, 8, 8, 9, 5, 0, 5, 2, 7, 5, 6, 3, 0, 9, 2, 7, 0, 7, 1, 1, 9, 3, 1, 5, 1, 7, 4, 1, 7, 5, 4, 6, 6, 4, 7, 9, 6, 4, 7, 2, 9, 8, 5, 8, 8, 9, 8, 7, 2, 9, 9, 2, 7, 1, 0, 7, 0, 2, 4, 3, 7, 1, 7, 3, 8, 8, 6, 6, 7, 2, 6, 4, 9, 9, 3, 4, 0, 6, 1, 8, 8, 9, 6, 6, 3, 7, 0, 0, 2, 0, 8, 1, 6, 3, 9, 3, 0, 4, 3, 2, 3, 4, 1, 1, 0, 0, 6, 3, 6, 0, 0, 4, 5, 3, 5, 4, 7, 4, 9, 5, 9, 5, 2, 5, 2, 2, 7, 1, 3, 5, 8, 5, 8, 0, 8, 5, 2, 9, 6, 6, 2, 0, 0, 8, 2, 2, 1, 4, 4, 4, 6, 9, 3, 2, 1, 4, 2, 1, 9, 1, 6, 6, 3, 0, 3, 9, 8, 3, 8, 7, 7, 2, 6, 0, 3, 5, 7, 1, 7, 0, 2, 1, 4, 2, 0, 0, 6, 4, 3, 5, 8, 5, 3, 9, 8, 7, 6, 4, 7, 6, 6, 6, 5, 4, 7, 1, 7, 4, 3, 7, 1, 2, 3, 2, 4, 2, 0, 7, 9, 4, 5, 9, 7, 0, 9, 5, 0, 3, 7, 5, 1, 7, 6, 2, 0, 3, 1, 8, 5, 7, 4, 6, 9, 2, 1, 3, 6, 3, 4, 2, 1, 8, 7, 7, 3, 7, 1, 4, 2, 8, 9, 6, 8, 5, 0, 1, 4, 1, 7, 7, 2, 0, 7, 5, 0, 2, 4, 0, 0, 7, 4, 0, 2, 4, 6, 6, 3, 2, 7, 8, 2, 3, 4, 8, 9, 0, 1, 1, 2, 4, 4, 2, 5, 0, 9, 2, 4, 9, 6, 8, 7, 4, 1, 3, 9, 5, 0, 4, 6, 5, 6, 1, 3, 8, 2, 5, 1, 5, 7, 4, 5, 3, 7, 1, 6, 4, 0, 1, 5, 5, 8, 0, 2, 0, 3, 8, 0, 7, 1, 7, 1, 1, 9, 5, 4, 1, 1, 1, 3, 3, 6, 2, 8, 1, 5, 8, 2, 9, 2, 5, 1, 2, 1, 4, 1, 9, 5, 1, 7, 6, 5, 0, 3, 9, 3, 3, 1, 8, 2, 6, 6, 8, 9, 6, 1, 9, 2, 2, 3, 7, 1, 5, 6, 3, 4, 2, 6, 3, 8, 5, 7, 8, 1, 3, 2, 1, 6, 4, 0, 0, 3, 6, 7, 9, 0, 7, 5, 3, 9, 2, 9, 7, 2, 6, 4, 5, 8, 1, 8, 5, 3, 5, 8, 0, 9, 2, 0, 5, 9, 3, 3, 7, 1, 3, 3, 6, 8, 0, 9, 9, 7, 0, 1, 2, 9, 6, 5, 0, 4, 5, 3, 0, 6, 5, 9, 0, 8, 0, 3, 5, 3, 8, 1, 4, 3, 4, 8, 1, 1, 4, 3, 5, 2, 0, 6, 9, 2, 5, 5, 0, 1, 0, 5, 5, 8, 0, 6, 5, 2, 2, 6, 3, 3, 0, 9, 5, 3, 2, 1, 2, 5, 0, 4, 6, 5, 1, 3, 3, 8, 7, 8, 6, 4, 1, 7, 1, 5, 0, 1, 5, 8, 9, 3, 9, 8, 6, 7, 6, 2, 9, 6, 1, 7, 9, 8, 6, 2, 5, 2, 5, 4, 7, 6, 7, 2, 5, 4, 4, 4, 7, 8, 2, 0, 0, 6, 2, 9, 8, 7, 8, 1, 5, 9, 0, 5, 8, 0, 9, 7, 3, 2, 4, 1, 9, 3, 7, 1, 2, 5, 9, 6, 1, 3, 8, 4, 6, 5, 0, 5, 2, 1, 1, 1, 2, 9, 9, 1, 4, 0, 0, 5, 7, 4, 1, 9, 7, 5, 1, 4, 0, 2, 6, 4, 8, 8, 3, 5, 6, 5, 6, 1, 4, 6, 7, 7, 7, 6, 3, 7, 0, 8, 4, 5, 0, 5, 3, 2, 4, 1, 9, 1, 7, 5, 6, 0, 0, 2, 7, 2, 1, 5, 2, 7, 4, 9, 0, 4, 0, 7, 6, 0, 5, 5, 1, 6, 6, 9, 8, 4, 4, 3, 5, 6, 6, 1, 9, 9, 9, 7, 6, 2, 0, 9, 6, 1, 9, 2, 3, 6, 1, 6, 0, 3, 9, 1, 1, 2, 1, 8, 0, 7, 0, 0, 3, 7, 8, 0, 3, 5, 9, 4, 1, 4, 1, 2, 6, 1, 2, 8, 5, 5, 3, 0, 2, 9, 5, 2, 1, 2, 8, 6, 3, 9, 4, 5, 7, 6, 3, 3, 2, 1, 9, 3, 3, 6, 4, 5, 8, 9, 5, 2, 3, 8, 9, 0, 4, 6, 5, 0, 3, 0, 3, 8, 2, 8, 7, 6, 4, 3, 4, 0, 0, 1, 5, 4, 4, 2, 6, 5, 1, 8, 0, 7, 9, 4, 8, 7, 0, 3, 6, 2, 5, 8, 4, 8, 4, 5, 7, 8, 2, 4, 5, 5, 8, 3, 4, 3, 8, 9, 5, 5, 2, 3, 4, 3, 4, 2, 9, 1, 5, 6, 4, 7, 0, 1, 2, 3, 9, 4, 8, 0, 9, 9, 1, 5, 9, 5, 8, 8, 8, 9, 9, 7, 5, 8, 9, 2, 9, 0, 4, 5, 2, 0, 7, 0, 5, 8, 5, 1, 0, 3, 9, 9, 3, 8, 0, 9, 5, 7, 1, 0, 0, 3, 9, 6, 6, 1, 6, 2, 4, 1, 6, 4, 4, 8, 0, 9, 3, 5, 5, 2, 2, 6, 3, 6, 1, 2, 8, 0, 7, 4, 5, 1, 9, 1, 5, 4, 2, 4, 8, 2, 9, 5, 4, 7, 6, 7, 9, 1, 4, 9, 1, 6, 0, 3, 5, 1, 3, 3, 5, 9, 8, 0, 5, 3, 0, 3, 4, 1, 8, 6, 0, 0, 3, 9, 4, 7, 0, 3, 9, 7, 4, 3, 1, 5, 5, 5, 3, 5, 0, 8, 3, 8, 9, 4, 6, 6, 9, 8, 3, 3, 1, 2, 6, 8, 3, 8, 0, 6, 3, 9, 9, 1, 5, 8, 2, 7, 4, 0, 1, 7, 6, 1, 8, 8, 6, 8, 9, 3, 4, 0, 9, 7, 3, 3, 5, 5, 4, 6, 6, 5, 6, 8, 5, 6, 4, 3, 1, 1, 0, 7, 9, 3, 0, 1, 1, 3, 1, 3, 4, 6, 6, 8, 0, 5, 6, 2, 2, 7, 9, 2, 3, 3, 6, 5, 5, 4, 1, 0, 3, 3, 5, 5, 4, 1, 5, 4, 5, 5, 6, 9, 4, 1, 9, 7, 4, 6, 5, 5, 2, 4, 3, 4, 6, 4, 6, 2, 6, 0, 4, 7, 1, 8, 6, 2, 2, 2, 7, 8, 6, 7, 8, 3, 9, 6, 9, 1, 0, 8, 0, 7, 0, 6, 0, 3, 0, 2, 1, 2, 0, 1, 9, 4, 0, 6, 1, 1, 1, 2, 2, 3, 8, 0, 9, 6, 2, 8, 2, 5, 3, 5, 6, 6, 7, 4, 7, 6, 7, 5, 6, 4, 3, 5, 4, 2, 4, 5, 6, 5, 7, 5, 6, 8, 9, 8, 2, 9, 3, 4, 0, 4, 2, 5, 3, 4, 2, 5, 0, 3, 7, 8, 1, 2, 4, 6, 1, 4, 4, 2, 2, 3, 2, 9, 9, 7, 5, 5, 1, 8, 7, 0, 4, 2, 1, 1, 1, 3, 6, 9, 9, 0, 9, 0, 8, 9, 6, 5, 5, 7, 9, 9, 2, 6, 8, 1, 0, 5, 9, 0, 9, 5, 2, 7, 3, 9, 8, 7, 7, 2, 0, 1, 5, 4, 8, 1, 5, 0, 2, 3, 8, 6, 2, 6, 0, 6, 0, 7, 8, 4, 3, 0, 2, 9, 3, 0, 6, 9, 8, 7, 0, 1, 2, 1, 1, 1, 7, 6, 0, 3, 7, 1, 9, 8, 5, 3, 2, 7, 7, 8, 1, 6, 2, 1, 7, 0, 0, 1, 5, 1, 8, 8, 5, 4, 8, 1, 5, 4, 4, 4, 9, 4, 1, 6, 9, 9, 7, 6, 3, 5, 7, 2, 6, 9, 3, 5, 9, 8, 1, 5, 9, 4, 5, 0, 4, 6, 5, 2, 5, 5, 3, 9, 8, 0, 6, 1, 7, 8, 2, 3, 3, 7, 7, 4, 5, 6, 5, 5, 5, 2, 3, 4, 4, 6, 0, 6, 4, 8, 7, 3, 7, 5, 2, 9, 9, 6, 7, 7, 6, 6, 6, 4, 1, 1, 0, 1, 4, 9, 3, 5, 3, 8, 6, 1, 9, 6, 3, 3, 0, 1, 9, 8, 6, 9, 4, 0, 4, 9, 2, 9, 6, 7, 0, 3, 7, 9, 7, 8, 7, 0, 0, 1, 4, 8, 2, 6, 5, 3, 6, 7, 2, 5, 2, 6, 8, 6, 5, 7, 7, 6, 9, 6, 4, 4, 0, 8, 9, 3, 7, 4, 5, 9, 1, 8, 0, 3, 2, 4, 5, 4, 2, 9, 2, 3, 7, 9, 0, 6, 6, 7, 1, 4, 7, 4, 0, 9, 8, 0, 6, 0, 5, 1, 3, 2, 6, 4, 1, 7, 3, 3, 1, 7, 7, 9, 9, 7, 4, 1, 3, 6, 3, 6, 3, 3, 9, 9, 2, 7, 2, 8, 1, 0, 1, 5, 5, 6, 2, 1, 0, 0, 9, 4, 7, 8, 2, 6, 7, 5, 7, 7, 5, 4, 7, 7, 3, 1, 4, 5, 1, 1, 3, 7, 6, 7, 2, 3, 5, 0, 5, 8, 5, 4, 0, 0, 0, 1, 1, 8, 7, 3, 4, 5, 6, 6, 4, 6, 2, 1, 6, 9, 3, 2, 4, 5, 1, 0, 2, 7, 4, 6, 2, 4, 3, 7, 0, 2, 8, 9, 3, 3, 8, 0, 6, 3, 6, 5, 4, 6, 5, 7, 3, 0, 7, 2, 4, 2, 4, 6, 7, 2, 1, 6, 1, 6, 3, 6, 2, 1, 8, 2, 0, 4, 9, 5, 1, 8, 6, 5, 6, 3, 5, 9, 0, 6, 6, 1, 3, 6, 7, 1, 5, 6, 1, 7, 3, 0, 0, 8, 3, 9, 1, 3, 6, 9, 8, 2, 7, 9, 3, 7, 4, 2, 4, 6, 5, 9, 3, 1, 7, 5, 1, 6, 3, 0, 3, 4, 5, 2, 2, 2, 1, 3, 4, 6, 3, 8, 4, 4, 1, 3, 7, 1, 7, 9, 3, 7, 1, 9, 5, 1, 1, 6, 4, 7, 5, 9, 1, 0, 4, 7, 1, 3, 0, 0, 6, 5, 0, 3, 1, 2, 7, 0, 5, 9, 9, 2, 2, 8, 0, 6, 5, 6, 8, 7, 4, 4, 1, 1, 0, 0, 6, 1, 6, 4, 9, 6, 9, 1, 6, 3, 8, 9, 6, 9, 4, 4, 5, 1, 3, 3, 8, 1, 4, 1, 8, 3, 1, 9, 0, 5, 2, 9, 6, 1, 5, 1, 0, 6, 3, 8, 1, 3, 2, 1, 7, 6, 2, 6, 4, 9, 8, 4, 9, 4, 4, 8, 5, 5, 6, 8, 7, 4, 8, 2, 6, 5, 2, 9, 3, 8, 7, 4, 5, 8, 0, 9, 3, 1, 2, 4, 4, 9, 1, 4, 2, 8, 2, 6, 5, 9, 1, 4, 2, 0, 5, 7, 9, 0, 3, 5, 9, 2, 9, 3, 7, 5, 5, 7, 2, 6, 3, 6, 9, 0, 8, 4, 8, 5, 0, 7, 1, 2, 6, 4, 4, 6, 3, 3, 3, 6, 2, 6, 0, 6, 6, 2, 7, 9, 7, 6, 0, 4, 2, 3, 8, 7, 0, 2, 1, 6, 3, 0, 5, 8, 0, 3, 9, 9, 6, 8, 2, 4, 7, 0, 0, 1, 6, 1, 6, 5, 7, 4, 8, 2, 0, 7, 2, 9, 2, 0, 0, 2, 6, 7, 0, 9, 0, 4, 1, 7, 8, 5, 1, 5, 4, 8, 8, 7, 9, 6, 0, 7, 3, 9, 5, 5, 3, 7, 9, 0, 1, 0, 4, 7, 9, 3, 4, 2, 9, 1, 3, 8, 5, 4, 6, 3, 1, 4, 6, 1, 9, 5, 1, 6, 5, 9, 6, 4, 6, 6, 4, 1, 0, 7, 8, 8, 6, 2, 8, 5, 3, 4, 7, 3, 5, 4, 5, 9, 1, 9, 2, 5, 6, 5, 1, 0, 2, 3, 1, 6, 0, 8, 5, 0, 6, 2, 9, 4, 5, 5, 3, 2, 7, 9, 9, 3, 6, 7, 7, 1, 4, 1, 6, 7, 6, 7, 0, 2, 5, 1, 8, 8, 7, 5, 7, 4, 8, 5, 0, 3, 4, 9, 8, 2, 2, 0, 4, 9, 5, 1, 2, 1, 9, 1, 4, 3, 4, 9, 1, 6, 5, 4, 5, 9, 1, 0, 8, 7, 2, 1, 9, 4, 3, 5, 8, 4, 8, 5, 8, 9, 6, 5, 1, 3, 2, 0, 8, 0, 8, 4, 5, 3, 2, 0, 5, 3, 0, 5, 0, 4, 9, 0, 1, 2, 3, 2, 3, 3, 5, 5, 4, 0, 6, 1, 6, 9, 3, 4, 0, 1, 7, 2, 6, 1, 8, 1, 0, 0, 2, 9, 5, 5, 4, 5, 3, 4, 0, 4, 5, 4, 7, 4, 5, 9, 1, 1, 4, 4, 7, 4, 4, 7, 3, 2, 7, 0, 4, 7, 6, 6, 0, 7, 2, 8, 0, 2, 5, 7, 0, 0, 1, 1, 6, 3, 8, 6, 1, 4, 3, 0, 2, 9, 8, 3, 1, 1, 4, 3, 1, 1, 2, 6, 0, 2, 4, 1, 4, 6, 8, 2, 3, 7, 3, 7, 1, 2, 9, 3, 7, 2, 5, 7, 6, 4, 3, 7, 5, 4, 2, 3, 0, 4, 5, 4, 4, 3, 0, 7, 9, 1, 4, 2, 3, 7, 4, 9, 7, 0, 7, 0, 3, 3, 9, 9, 4, 7, 8, 0, 6, 0, 0, 3, 7, 3, 7, 5, 8, 4, 9, 3, 9, 5, 6, 7, 0, 3, 3, 5, 2, 3, 7, 1, 7, 2, 9, 9, 1, 5, 3, 0, 1, 9, 2, 1, 5, 7, 2, 4, 5, 2, 5, 4, 8, 1, 3, 5, 1, 8, 3, 7, 4, 2, 1, 4, 5, 4, 5, 9, 4, 5, 9, 1, 4, 9, 5, 5, 9, 0, 0, 8, 5, 6, 4, 2, 9, 0, 7, 4, 5, 7, 0, 0, 1, 2, 0, 7, 6, 5, 0, 1, 8, 9, 5, 1, 4, 3, 4, 8, 9, 7, 0, 9, 9, 9, 7, 7, 2, 0, 7, 6, 8, 3, 5, 8, 1, 4, 0, 4, 7, 1, 9, 3, 6, 7, 1, 4, 7, 4, 9, 1, 2, 8, 2, 0, 6, 5, 9, 8, 8, 9, 1, 7, 3, 5, 7, 2, 7, 3, 3, 9, 7, 9, 9, 1, 8, 1, 8, 3, 3, 0, 4, 4, 2, 3, 1, 4, 1, 7, 5, 2, 6, 2, 3, 0, 7, 3, 0, 1, 5, 5, 8, 6, 5, 2, 1, 8, 1, 5, 5, 0, 8, 4, 2, 9, 1, 3, 9, 6, 4, 6, 3, 3, 4, 6, 3, 8, 1, 6, 1, 4, 1, 3, 9, 0, 8, 3, 6, 5, 6, 1, 7, 3, 3, 2, 2, 8, 7, 1, 6, 4, 2, 2, 4, 5, 3, 1, 5, 8, 4, 9, 1, 8, 7, 3, 4, 4, 4, 1, 6, 8, 4, 2, 1, 6, 3, 2, 2, 5, 9, 1, 2, 2, 4, 1, 0, 3, 2, 3, 3, 4, 7, 9, 7, 9, 1, 3, 9, 5, 8, 4, 5, 9, 0, 0, 4, 3, 6, 1, 0, 8, 4, 0, 4, 0, 5, 4, 5, 6, 2, 6, 0, 1, 4, 5, 6, 3, 3, 1, 7, 6, 0, 5, 3, 0, 5, 1, 4, 5, 4, 9, 8, 0, 0, 0, 5, 4, 1, 5, 6, 7, 7, 3, 2, 7, 3, 8, 9, 2, 8, 3, 0, 8, 6, 8, 6, 0, 0, 1, 6, 2, 9, 6, 5, 9, 6, 5, 2, 6, 1, 1, 7, 6, 2, 0, 1, 0, 1, 4, 5, 0, 9, 4, 5, 9, 5, 3, 3, 1, 2, 0, 5, 4, 8, 0, 5, 7, 0, 4, 3, 5, 3, 3, 3, 1, 0, 5, 3, 2, 0, 2, 5, 0, 6, 1, 9, 4, 0, 2, 3, 4, 2, 2, 0, 1, 6, 6, 1, 0, 1, 9, 9, 6, 3, 9, 1, 2, 1, 2, 0, 5, 0, 1, 9, 1, 6, 7, 5, 3, 9, 6, 6, 5, 4, 0, 9, 7, 1, 6, 8, 7, 5, 9, 0, 4, 7, 0, 4, 8, 5, 1, 8, 6, 4, 2, 4, 9, 1, 8, 7, 0, 2, 3, 5, 9, 2, 0, 0, 4, 4, 6, 8, 1, 2, 9, 8, 0, 9, 6, 2, 7, 1, 3, 8, 0, 7, 0, 0, 7, 3, 5, 9, 2, 9, 4, 8, 6, 4, 7, 8, 5, 0, 3, 2, 2, 8, 5, 7, 1, 9, 7, 5, 3, 0, 0, 8, 2, 3, 1, 9, 9, 1, 9, 4, 8, 5, 2, 1, 5, 3, 6, 0, 4, 6, 6, 0, 2, 6, 6, 9, 8, 2, 3, 5, 2, 9, 1, 7, 5, 9, 8, 0, 2, 5, 4, 5, 7, 2, 7, 3, 8, 1, 4, 1, 9, 3, 1, 8, 8, 1, 3, 2, 7, 3, 4, 7, 1, 3, 1, 7, 7, 2, 1, 6, 4, 5, 5, 6, 6, 8, 3, 6, 9, 9, 3, 7, 3, 1, 5, 1, 8, 5, 3, 9, 6, 5, 6, 5, 8, 4, 1, 6, 7, 9, 1, 5, 2, 2, 0, 9, 1, 7, 6, 6, 0, 0, 3, 1, 8, 9, 4, 1, 6, 3, 5, 9, 1, 1, 8, 9, 7, 5, 2, 4, 3, 5, 4, 7, 2, 1, 5, 6, 7, 0, 7, 7, 4, 4, 0, 3, 5, 8, 4, 9, 3, 4, 0, 4, 3, 0, 3, 3, 1, 3, 3, 8, 1, 2, 2, 7, 1, 7, 8, 3, 4, 1, 5, 1, 9, 3, 9, 2, 8, 6, 4, 9, 6, 1, 3, 9, 4, 6, 3, 6, 9, 5, 0, 9, 2, 9, 0, 0, 1, 0, 8, 8, 3, 2, 7, 2, 1, 1, 2, 0, 9, 8, 3, 7, 1, 3, 4, 2, 8, 4, 3, 5, 4, 5, 4, 2, 7, 0, 1, 8, 9, 4, 4, 2, 2, 9, 1, 6, 4, 9, 5, 8, 6, 6, 4, 0, 0, 9, 3, 2, 8, 1, 5, 3, 7, 0, 9, 8, 4, 0, 9, 1, 4, 0, 5, 0, 4, 4, 2, 7, 6, 4, 8, 9, 5, 5, 6, 2, 4, 3, 0, 7, 0, 6, 2, 1, 3, 0, 4, 1, 9, 6, 7, 1, 3, 4, 8, 3, 0, 1, 4, 2, 9, 4, 9, 2, 2, 4, 8, 2, 6, 1, 1, 1, 2, 5, 7, 0, 1, 7, 6, 7, 8, 2, 6, 7, 0, 5, 3, 6, 0, 6, 6, 8, 5, 4, 0, 0, 4, 9, 9, 8, 7, 8, 6, 8, 7, 2, 3, 6, 3, 5, 9, 2, 1, 9, 1, 0, 0, 3, 9, 7, 0, 6, 1, 1, 1, 6, 3, 5, 4, 4, 3, 2, 1, 7, 7, 5, 1, 8, 0, 3, 1, 0, 7, 2, 2, 4, 9, 5, 2, 7, 0, 1, 2, 8, 6, 9, 9, 2, 9, 6, 0, 2, 6, 7, 0, 7, 1, 2, 1, 4, 6, 2, 5, 4, 2, 5, 5, 1, 7, 3, 5, 3, 6, 3, 6, 9, 4, 1, 1, 9, 3, 1, 1, 3, 4, 8, 8, 2, 4, 4, 8, 4, 6, 7, 5, 8, 8, 1, 3, 7, 3, 9, 8, 9, 7, 6, 0, 0, 1, 7, 2, 0, 0, 4, 7, 6, 8, 6, 5, 7, 7, 1, 0, 2, 4, 9, 6, 1, 3, 6, 4, 8, 2, 3, 8, 4, 5, 8, 4, 5, 3, 0, 2, 4, 7, 9, 5, 1, 6, 0, 8, 4, 5, 1, 0, 5, 1, 0, 4, 4, 9, 3, 9, 8, 9, 4, 7, 5, 4, 1, 1, 0, 3, 2, 9, 3, 0, 4, 6, 9, 0, 6, 9, 7, 7, 3, 3, 0, 1, 2, 1, 8, 8, 4, 0, 8, 2, 1, 6, 4, 7, 6, 7, 0, 3, 7, 1, 0, 4, 7, 8, 7, 3, 9, 2, 2, 1, 2, 4, 4, 0, 9, 1, 7, 0, 4, 0, 3, 9, 6, 7, 3, 4, 6, 4, 2, 6, 5, 2, 7, 7, 3, 0, 3, 3, 1, 9, 0, 9, 3, 4, 2, 6, 6, 1, 1, 7, 3, 0, 7, 4, 3, 3, 7, 9, 4, 4, 7, 6, 4, 1, 0, 4, 2, 4, 6, 2, 6, 7, 4, 5, 8, 1, 7, 7, 9, 1, 0, 4, 8, 7, 3, 0, 1, 7, 7, 9, 9, 0, 4, 4, 0, 4, 9, 5, 9, 0, 5, 9, 0, 2, 2, 9, 9, 4, 8, 9, 5, 7, 8, 9, 4, 9, 6, 6, 6, 5, 3, 0, 9, 5, 2, 0, 5, 0, 0, 2, 8, 7, 1, 1, 8, 6, 1, 2, 0, 1, 4, 1, 8, 9, 0, 7, 9, 7, 1, 6, 7, 9, 5, 9, 2, 8, 9, 4, 1, 4, 9, 2, 4, 2, 0, 4, 5, 4, 0, 5, 3, 6, 4, 1, 5, 7, 4, 4, 4, 6, 2, 2, 2, 6, 2, 9, 5, 0, 8, 1, 8, 1, 4, 6, 0, 7, 2, 9, 7, 7, 5, 6, 2, 9, 8, 0, 7, 3, 2, 6, 0, 2, 0, 1, 3, 7, 7, 1, 1, 1, 1, 8, 1, 0, 0, 5, 4, 9, 7, 2, 0, 2, 2, 2, 7, 2, 3, 7, 4, 6, 4, 9, 3, 6, 6, 2, 7, 4, 5, 0, 1, 9, 2, 6, 5, 7, 3, 5, 4, 2, 7, 0, 1, 7, 5, 8, 6, 6, 4, 2, 6, 2, 5, 0, 5, 0, 1, 0, 5, 9, 8, 0, 3, 1, 0, 4, 3, 5, 6, 7, 0, 7, 4, 2, 1, 0, 8, 0, 4, 6, 1, 9, 4, 3, 6, 7, 3, 3, 6, 8, 7, 6, 9, 1, 8, 5, 7, 0, 4, 7, 0, 4, 6, 0, 4, 1, 3, 1, 1, 2, 0, 9, 3, 7, 7, 2, 0, 8, 6, 5, 0, 9, 3, 6, 3, 8, 7, 2, 9, 9, 5, 9, 7, 8, 8, 8, 1, 8, 3, 3, 5, 3, 2, 6, 0, 9, 5, 9, 5, 1, 3, 9, 7, 5, 3, 9, 9, 9, 8, 3, 6, 0, 8, 3, 2, 8, 2, 1, 9, 5, 4, 7, 5, 6, 6, 0, 0, 1, 5, 4, 6, 2, 8, 0, 3, 0, 3, 9, 5, 1, 2, 9, 5, 7, 1, 5, 3, 2, 8, 7, 8, 4, 2, 1, 2, 5, 0, 0, 1, 7, 7, 4, 1, 0, 2, 6, 1, 3, 1, 7, 2, 2, 3, 6, 2, 8, 8, 5, 8, 2, 4, 3, 0, 0, 8, 8, 9, 5, 6, 0, 6, 1, 3, 4, 6, 7, 7, 8, 0, 5, 8, 0, 2, 8, 4, 8, 7, 1, 9, 4, 1, 7, 8, 4, 6, 1, 9, 4, 3, 4, 6, 1, 1, 2, 3, 5, 6, 6, 1, 3, 5, 6, 9, 9, 5, 4, 9, 0, 2, 8, 9, 5, 8, 0, 0, 4, 5, 4, 6, 7, 3, 2, 1, 9, 8, 1, 7, 5, 4, 2, 3, 6, 7, 6, 9, 8, 0, 1, 0, 5, 8, 0, 3, 5, 7, 8, 9, 6, 7, 9, 0, 6, 8, 3, 9, 8, 7, 8, 8, 2, 9, 8, 9, 4, 9, 7, 0, 8, 9, 2, 4, 4, 0, 3, 4, 1, 6, 9, 2, 5, 0, 7, 1, 6, 5, 7, 9, 4, 9, 7, 6, 7, 7, 8, 8, 4, 9, 5, 1, 0, 6, 2, 7, 0, 7, 2, 7, 6, 2, 0, 3, 1, 5, 7, 2, 8, 5, 6, 8, 9, 6, 1, 1, 1, 6, 2, 6, 9, 8, 8, 2, 9, 9, 6, 1, 8, 7, 6, 0, 9, 1, 2, 3, 9, 9, 8, 5, 9, 8, 7, 4, 3, 0, 6, 1, 4, 1, 6, 9, 8, 0, 2, 4, 3, 4, 0, 6, 6, 5, 9, 2, 1, 6, 3, 5, 1, 5, 5, 9, 6, 5, 8, 5, 8, 2, 8, 4, 1, 9, 0, 1, 5, 9, 1, 9, 4, 5, 6, 0, 1, 3, 6, 0, 7, 7, 2, 1, 8, 5, 5, 7, 0, 8, 8, 5, 3, 5, 2, 7, 9, 2, 0, 3, 9, 9, 2, 4, 8, 2, 3, 7, 4, 6, 9, 3, 1, 8, 6, 4, 4, 5, 8, 2, 2, 1, 7, 0, 4, 0, 3, 2, 0, 7, 3, 4, 8, 4, 6, 8, 1, 7, 6, 3, 8, 1, 4, 3, 0, 9, 0, 3, 0, 6, 6, 4, 8, 7, 3, 6, 9, 1, 9, 1, 9, 6, 7, 9, 3, 5, 6, 5, 2, 7, 1, 9, 9, 7, 5, 5, 9, 0, 8, 7, 5, 4, 7, 2, 9, 8, 3, 7, 7, 6, 4, 9, 8, 7, 2, 8, 2, 5, 3, 8, 2, 7, 2, 9, 8, 8, 3, 4, 2, 7, 5, 7, 6, 7, 5, 2, 1, 9, 1, 9, 5, 0, 9, 1, 3, 7, 1, 7, 5, 4, 1, 2, 1, 2, 8, 3, 4, 2, 6, 6, 2, 5, 3, 5, 8, 5, 8, 9, 5, 7, 9, 4, 0, 6, 8, 2, 2, 3, 0, 4, 7, 6, 2, 5, 4, 9, 8, 3, 3, 4, 3, 9, 1, 3, 2, 4, 0, 5, 4, 8, 8, 9, 0, 0, 4, 9, 8, 5, 9, 4, 6, 3, 8, 8, 1, 2, 0, 7, 1, 1, 1, 6, 1, 5, 0, 7, 5, 3, 5, 9, 6, 6, 0, 0, 0, 3, 2, 8, 1, 1, 6, 9, 0, 0, 8, 2, 1, 6, 6, 8, 1, 8, 1, 2, 3, 4, 3, 4, 2, 5, 0, 5, 3, 2, 1, 5, 3, 4, 8, 9, 1, 6, 4, 9, 2, 8, 1, 2, 3, 1, 9, 1, 1, 0, 4, 9, 1, 0, 2, 8, 6, 4, 7, 3, 7, 6, 4, 5, 1, 4, 8, 7, 1, 3, 8, 6, 0, 3, 9, 9, 5, 0, 0, 7, 5, 8, 7, 1, 6, 5, 2, 8, 9, 8, 5, 1, 8, 0, 6, 6, 4, 0, 6, 7, 1, 2, 2, 3, 7, 8, 9, 2, 2, 0, 2, 6, 1, 0, 9, 7, 1, 1, 9, 9, 1, 1, 7, 9, 2, 2, 7, 1, 4, 1, 1, 3, 6, 1, 7, 3, 0, 0, 9, 7, 7, 2, 2, 4, 5, 7, 9, 4, 9, 2, 2, 9, 7, 6, 1, 3, 3, 4, 6, 4, 8, 4, 2, 8, 5, 2, 0, 1, 7, 8, 6, 4, 3, 3, 4, 8, 1, 0, 8, 9, 5, 1, 1, 2, 1, 5, 9, 3, 4, 9, 4, 4, 0, 6, 5, 8, 7, 3, 1, 2, 5, 1, 1, 9, 6, 8, 9, 3, 8, 9, 0, 6, 7, 1, 0, 4, 4, 2, 6, 4, 3, 9, 7, 4, 1, 8, 7, 1, 6, 4, 2, 0, 1, 1, 3, 2, 3, 6, 1, 9, 1, 4, 3, 1, 1, 6, 7, 6, 1, 0, 2, 4, 4, 2, 7, 3, 0, 8, 8, 7, 7, 5, 6, 7, 0, 7, 5, 6, 8, 2, 5, 1, 8, 4, 1, 6, 4, 8, 4, 2, 8, 5, 6, 0, 5, 0, 8, 1, 5, 5, 1, 0, 8, 6, 7, 0, 2, 7, 9, 1, 7, 6, 6, 1, 6, 6, 1, 3, 6, 0, 4, 7, 9, 0, 9, 4, 0, 2, 9, 7, 8, 6, 1, 5, 9, 2, 6, 7, 0, 4, 9, 0, 6, 0, 6, 2, 9, 4, 6, 4, 8, 5, 8, 2, 0, 0, 5, 9, 1, 4, 8, 8, 5, 8, 0, 2, 0, 7, 9, 4, 7, 0, 8, 6, 6, 9, 6, 4, 7, 8, 6, 1, 2, 0, 7, 3, 1, 9, 4, 6, 6, 4, 0, 6, 3, 7, 6, 2, 0, 5, 4, 8, 7, 2, 4, 9, 7, 7, 7, 6, 2, 3, 1, 9, 6, 0, 0, 5, 3, 2, 2, 3, 5, 4, 0, 4, 4, 4, 8, 4, 7, 3, 7, 5, 0, 5, 8, 2, 3, 6, 1, 6, 7, 5, 3, 2, 5, 1, 6, 4, 1, 7, 5, 7, 0, 0, 3, 2, 0, 1, 2, 0, 0, 4, 7, 7, 4, 7, 4, 5, 4, 1, 4, 6, 3, 0, 5, 9, 8, 2, 3, 9, 9, 8, 1, 2, 5, 7, 3, 6, 8, 0, 0, 2, 1, 6, 5, 7, 5, 0, 4, 5, 2, 5, 7, 5, 2, 4, 3, 5, 6, 6, 1, 1, 2, 9, 7, 5, 1, 5, 2, 2, 1, 4, 4, 0, 7, 5, 0, 6, 8, 3, 2, 7, 7, 6, 9, 9, 5, 7, 9, 5, 0, 1, 5, 0, 4, 5, 6, 3, 1, 1, 4, 9, 6, 2, 8, 9, 3, 1, 9, 7, 7, 4, 8, 2, 9, 7, 5, 6, 8, 3, 2, 3, 6, 1, 2, 2, 2, 8, 5, 8, 3, 0, 3, 3, 6, 7, 2, 2, 4, 0, 1, 6, 2, 0, 9, 2, 1, 1, 8, 5, 2, 8, 8, 8, 2, 3, 9, 5, 5, 3, 7, 8, 3, 2, 9, 0, 9, 9, 9, 6, 2, 3, 1, 7, 8, 3, 3, 7, 2, 4, 0, 7, 3, 4, 1, 4, 5, 3, 8, 4, 1, 6, 9, 5, 8, 7, 4, 9, 3, 4, 1, 2, 0, 6, 6, 6, 1, 0, 1, 2, 8, 3, 8, 7, 2, 3, 4, 7, 5, 8, 6, 2, 1, 2, 9, 6, 7, 3, 1, 2, 0, 1, 5, 3, 4, 7, 2, 9, 3, 5, 4, 2, 1, 3, 6, 8, 2, 0, 1, 9, 1, 8, 3, 1, 4, 5, 3, 9, 1, 4, 5, 6, 0, 4, 4, 2, 0, 6, 9, 8, 1, 6, 0, 9, 3, 7, 5, 3, 5, 6, 4, 5, 4, 1, 1, 2, 9, 1, 0, 3, 3, 6, 9, 6, 2, 9, 6, 1, 2, 7, 6, 0, 5, 2, 9, 1, 3, 3, 0, 7, 6, 6, 1, 5, 2, 3, 0, 6, 0, 8, 9, 3, 2, 1, 3, 2, 0, 3, 5, 0, 8, 6, 4, 0, 8, 5, 7, 8, 2, 0, 8, 6, 7, 8, 7, 9, 0, 9, 0, 9, 9, 8, 4, 7, 6, 2, 8, 1, 4, 0, 2, 5, 3, 7, 8, 6, 0, 8, 6, 5, 0, 1, 1, 3, 3, 8, 6, 0, 1, 9, 6, 1, 5, 4, 6, 9, 4, 5, 9, 9, 6, 2, 3, 1, 8, 1, 2, 0, 1, 9, 0, 2, 4, 3, 9, 0, 0, 1, 2, 8, 8, 9, 0, 5, 0, 4, 8, 0, 1, 9, 4, 2, 9, 0, 0, 0, 9, 2, 8, 1, 9, 7, 2, 9, 5, 6, 9, 9, 0, 7, 6, 6, 1, 0, 7, 7, 4, 9, 9, 1, 8, 7, 8, 4, 2, 0, 3, 9, 7, 0, 0, 2, 5, 4, 2, 1, 1, 0, 9, 7, 6, 0, 6, 0, 0, 0, 3, 4, 3, 0, 2, 6, 6, 0, 0, 9, 9, 6, 7, 7, 2, 0, 8, 4, 0, 6, 5, 6, 5, 1, 4, 9, 7, 4, 9, 9, 0, 3, 8, 7, 8, 5, 3, 8, 8, 9, 7, 0, 7, 4, 9, 5, 1, 6, 4, 6, 0, 3, 6, 1, 2, 9, 9, 8, 5, 4, 2, 2, 0, 3, 6, 9, 2, 7, 5, 2, 2, 3, 4, 0, 1, 7, 4, 4, 2, 3, 7, 5, 5, 5, 2, 2, 3, 0, 7, 5, 5, 1, 5, 8, 5, 9, 4, 2, 6, 6, 9, 0, 1, 6, 3, 7, 2, 4, 0, 4, 4, 4, 3, 0, 0, 2, 5, 3, 6, 6, 9, 9, 9, 2, 1, 8, 9, 5, 0, 1, 0, 3, 3, 2, 9, 4, 8, 7, 6, 4, 3, 1, 1, 7, 3, 1, 5, 0, 2, 5, 8, 3, 8, 3, 9, 5, 8, 8, 5, 6, 5, 4, 7, 0, 1, 2, 7, 9, 1, 1, 0, 5, 5, 5, 9, 2, 3, 6, 3, 4, 5, 1, 7, 7, 4, 2, 8, 3, 8, 8, 7, 1, 8, 6, 1, 9, 2, 0, 4, 9, 9, 7, 2, 9, 7, 2, 1, 4, 8, 9, 1, 5, 4, 5, 5, 4, 3, 1, 6, 2, 3, 5, 4, 2, 2, 2, 4, 2, 6, 2, 5, 3, 5, 3, 6, 6, 3, 3, 9, 2, 0, 2, 8, 9, 6, 8, 5, 2, 5, 9, 4, 3, 1, 9, 2, 2, 6, 1, 4, 4, 6, 5, 0, 9, 1, 4, 2, 9, 8, 8, 6, 4, 9, 0, 5, 4, 8, 4, 1, 1, 8, 2, 5, 0, 7, 0, 5, 4, 5, 1, 4, 1, 2, 3, 7, 7, 1, 9, 2, 0, 0, 7, 1, 7, 3, 3, 8, 4, 8, 0, 7, 4, 8, 9, 3, 4, 0, 4, 6, 7, 2, 4, 0, 0, 6, 4, 3, 3, 2, 6, 7, 1, 3, 7, 8, 8, 4, 6, 0, 3, 3, 0, 8, 4, 8, 2, 6, 3, 4, 6, 8, 4, 7, 6, 0, 2, 5, 8, 5, 7, 6, 9, 2, 5, 9, 0, 0, 8, 8, 9, 2, 5, 4, 7, 8, 5, 4, 9, 9, 6, 4, 3, 8, 3, 4, 4, 9, 0, 7, 7, 7, 4, 0, 6, 1, 0, 0, 5, 2, 9, 7, 2, 1, 7, 7, 9, 4, 1, 7, 1, 2, 9, 1, 3, 1, 6, 2, 6, 9, 2, 5, 2, 2, 3, 5, 8, 5, 7, 9, 1, 6, 9, 6, 7, 7, 6, 2, 4, 6, 1, 4, 1, 6, 7, 7, 1, 8, 1, 1, 6, 9, 9, 0, 0, 1, 2, 7, 9, 8, 8, 0, 3, 9, 1, 0, 7, 6, 7, 4, 1, 5, 8, 7, 0, 1, 5, 9, 1, 5, 6, 0, 1, 0, 0, 9, 4, 9, 4, 2, 6, 3, 6, 3, 1, 7, 0, 7, 2, 4, 3, 9, 7, 6, 9, 7, 0, 2, 2, 6, 1, 8, 0, 2, 4, 5, 5, 1, 2, 6, 3, 9, 1, 9, 8, 1, 6, 5, 7, 1, 9, 9, 9, 3, 3, 3, 3, 7, 3, 3, 6, 4, 4, 6, 0, 7, 8, 9, 8, 6, 7, 2, 4, 8, 1, 0, 4, 4, 8, 0, 0, 4, 5, 7, 6, 7, 0, 7, 2, 1, 4, 3, 1, 6, 9, 3, 9, 9, 5, 1, 1, 5, 3, 9, 4, 0, 1, 6, 2, 6, 2, 0, 2, 5, 7, 3, 1, 6, 1, 1, 1, 2, 8, 5, 8, 4, 9, 8, 8, 5, 1, 8, 6, 7, 9, 1, 5, 1, 7, 7, 6, 4, 8, 6, 3, 3, 4, 0, 3, 4, 5, 4, 8, 7, 4, 4, 8, 2, 8, 8, 1, 6, 9, 8, 3, 1, 7, 5, 0, 4, 1, 2, 2, 2, 4, 9, 1, 7, 1, 3, 8, 1, 2, 8, 6, 7, 9, 7, 3, 1, 9, 6, 4, 5, 9, 1, 6, 5, 1, 6, 5, 1, 4, 5, 7, 0, 5, 4, 7, 7, 0, 5, 0, 2, 0, 3, 7, 4, 8, 1, 0, 9, 1, 2, 0, 2, 9, 7, 8, 2, 9, 4, 6, 4, 5, 7, 0, 9, 8, 9, 6, 1, 1, 2, 3, 0, 8, 9, 1, 3, 5, 0, 9, 3, 6, 3, 6, 9, 0, 2, 1, 2, 5, 6, 7, 1, 5, 1, 5, 8, 1, 1, 9, 1, 4, 1, 4, 9, 8, 3, 1, 3, 9, 2, 6, 3, 1, 9, 2, 3, 1, 7, 7, 1, 4, 9, 7, 7, 6, 4, 5, 0, 0, 3, 9, 5, 4, 9, 7, 2, 7, 7, 7, 1, 5, 9, 9, 0, 2, 7, 5, 1, 9, 7, 4, 5, 1, 3, 1, 1, 2, 1, 9, 0, 8, 7, 7, 4, 1, 4, 3, 9, 1, 6, 2, 1, 2, 6, 7, 7, 3, 1, 5, 2, 6, 7, 6, 1, 1, 6, 3, 4, 9, 2, 4, 4, 7, 7, 1, 5, 2, 0, 9, 9, 3, 3, 4, 4, 5, 6, 6, 5, 3, 4, 2, 2, 6, 7, 0, 0, 3, 5, 0, 5, 7, 8, 5, 5, 8, 1, 1, 7, 4, 8, 9, 1, 6, 3, 1, 3, 6, 1, 7, 0, 5, 5, 8, 1, 7, 2, 1, 9, 0, 7, 7, 6, 6, 1, 5, 2, 4, 6, 2, 4, 5, 0, 9, 7, 0, 7, 1, 6, 6, 2, 7, 3, 6, 0, 1, 0, 1, 5, 8, 0, 7, 4, 2, 3, 3, 9, 2, 9, 3, 8, 6, 0, 4, 0, 5, 9, 5, 2, 1, 8, 5, 0, 7, 3, 4, 8, 2, 5, 4, 5, 3, 7, 2, 8, 1, 6, 6, 7, 2, 8, 8, 8, 4, 3, 1, 1, 3, 6, 7, 9, 0, 9, 0, 7, 5, 3, 1, 5, 5, 0, 8, 5, 8, 6, 6, 9, 0, 2, 7, 2, 8, 2, 9, 1, 9, 6, 7, 3, 7, 3, 1, 8, 9, 2, 2, 1, 5, 8, 4, 7, 4, 6, 7, 6, 8, 2, 0, 1, 5, 0, 0, 6, 0, 5, 3, 0, 7, 7, 7, 5, 7, 2, 3, 0, 9, 5, 8, 2, 0, 0, 6, 9, 1, 0, 7, 5, 4, 0, 8, 1, 0, 8, 6, 9, 1, 3, 0, 9, 1, 4, 1, 2, 4, 7, 6, 0, 3, 0, 4, 0, 2, 0, 6, 2, 7, 3, 0, 0, 6, 9, 1, 3, 6, 9, 6, 2, 9, 3, 3, 6, 3, 1, 0, 3, 3, 7, 1, 6, 8, 8, 0, 9, 9, 1, 0, 4, 5, 6, 8, 0, 3, 3, 3, 0, 9, 7, 5, 7, 4, 0, 9, 3, 1, 4, 3, 8, 2, 8, 2, 5, 8, 9, 9, 9, 0, 3, 8, 5, 3, 6, 5, 6, 5, 2, 1, 4, 9, 2, 7, 1, 3, 4, 9, 1, 9, 3, 0, 1, 6, 0, 8, 1, 5, 4, 1, 2, 5, 6, 6, 8, 5, 3, 8, 0, 2, 6, 8, 7, 1, 3, 6, 2, 1, 8, 5, 2, 8, 8, 8, 6, 1, 9, 8, 6, 5, 2, 1, 8, 2, 2, 8, 3, 3, 6, 4, 1, 9, 2, 9, 9, 1, 9, 2, 3, 2, 4, 5, 3, 0, 5, 9, 6, 8, 2, 4, 9, 9, 1, 2, 6, 8, 1, 3, 2, 1, 1, 5, 7, 2, 2, 5, 3, 1, 5, 3, 8, 8, 2, 6, 0, 3, 1, 6, 6, 8, 9, 8, 5, 8, 9, 5, 8, 0, 0, 3, 5, 6, 8, 3, 1, 5, 7, 2, 5, 7, 6, 7, 7, 2, 7, 4, 1, 1, 4, 6, 6, 8, 6, 7, 4, 5, 1, 8, 8, 1, 6, 7, 9, 9, 1, 3, 6, 6, 8, 6, 3, 5, 4, 5, 8, 3, 6, 2, 3, 5, 9, 9, 2, 1, 7, 6, 2, 9, 2, 7, 3, 2, 3, 0, 7, 6, 6, 2, 1, 4, 1, 8, 1, 9, 9, 6, 5, 1, 8, 1, 7, 1, 2, 6, 1, 0, 8, 9, 4, 3, 8, 9, 7, 5, 3, 0, 6, 8, 0, 9, 7, 5, 3, 3, 5, 5, 3, 6, 4, 1, 9, 8, 0, 5, 3, 6, 7, 9, 4, 8, 7, 7, 3, 7, 4, 2, 7, 9, 4, 8, 7, 9, 7, 0, 4, 5, 3, 1, 0, 1, 7, 9, 3, 7, 4, 6, 0, 3, 1, 4, 8, 3, 4, 7, 9, 1, 4, 5, 7, 1, 0, 4, 1, 4, 5, 0, 9, 3, 3, 3, 4, 3, 3, 3, 1, 0, 5, 7, 0, 4, 8, 5, 1, 1, 0, 5, 7, 7, 2, 9, 1, 4, 2, 3, 0, 7, 1, 8, 0, 3, 2, 3, 9, 2, 3, 1, 6, 5, 9, 2, 3, 0, 7, 2, 9, 2, 2, 7, 8, 2, 4, 2, 5, 4, 2, 1, 6, 8, 4, 9, 5, 1, 8, 2, 0, 0, 7, 8, 2, 4, 9, 0, 0, 1, 8, 1, 8, 0, 4, 8, 5, 2, 7, 5, 1, 1, 7, 3, 7, 2, 8, 5, 5, 3, 7, 2, 0, 6, 7, 6, 0, 2, 3, 3, 0, 8, 6, 4, 8, 4, 9, 6, 3, 0, 8, 3, 7, 4, 6, 7, 8, 3, 2, 7, 4, 8, 8, 9, 7, 1, 7, 2, 0, 0, 9, 0, 3, 6, 5, 7, 8, 3, 0, 6, 9, 2, 6, 5, 3, 4, 6, 3, 5, 2, 8, 5, 6, 3, 1, 2, 9, 9, 8, 6, 1, 9, 3, 6, 9, 9, 4, 1, 2, 8, 0, 3, 5, 3, 7, 4, 2, 2, 8, 8, 7, 6, 1, 4, 7, 0, 4, 4, 9, 1, 6, 5, 0, 0, 2, 0, 9, 7, 9, 2, 0, 6, 5, 7, 7, 5, 9, 9, 7, 8, 0, 6, 8, 2, 6, 5, 8, 8, 8, 7, 2, 4, 7, 7, 8, 7, 8, 9, 5, 4, 3, 4, 6, 3, 9, 6, 2, 0, 1, 3, 6, 4, 0, 8, 4, 0, 1, 8, 5, 5, 8, 8, 6, 5, 3, 4, 6, 6, 8, 2, 8, 6, 4, 1, 1, 6, 3, 9, 3, 8, 7, 4, 6, 1, 3, 7, 1, 2, 5, 9, 9, 0, 1, 6, 5, 6, 1, 4, 9, 3, 2, 9, 3, 7, 7, 2, 2, 3, 4, 7, 8, 9, 2, 3, 5, 2, 0, 3, 3, 2, 9, 5, 4, 4, 2, 0, 1, 8, 7, 8, 0, 2, 9, 2, 2, 5, 4, 4, 3, 8, 2, 5, 2, 5, 5, 3, 6, 3, 1, 0, 7, 3, 9, 4, 2, 0, 5, 6, 2, 0, 3, 0, 3, 5, 0, 2, 0, 8, 2, 4, 8, 7, 0, 0, 9, 7, 5, 4, 1, 8, 8, 9, 4, 4, 0, 3, 0, 0, 2, 7, 1, 2, 4, 0, 2, 0, 4, 5, 8, 7, 7, 9, 8, 1, 4, 6, 2, 1, 6, 8, 6, 6, 6, 3, 6, 7, 4, 3, 9, 7, 8, 2, 5, 1, 0, 4, 2, 7, 4, 9, 5, 6, 2, 4, 6, 6, 3, 7, 6, 5, 1, 3, 9, 2, 5, 5, 3, 7, 0, 3, 4, 1, 7, 0, 2, 7, 8, 9, 6, 3, 2, 9, 6, 5, 6, 4, 8, 6, 9, 8, 2, 1, 2, 0, 5, 8, 0, 3, 3, 4, 3, 1, 2, 6, 0, 6, 2, 2, 1, 5, 8, 6, 4, 2, 4, 0, 9, 9, 1, 8, 6, 9, 3, 5, 3, 0, 5, 5, 1, 1, 3, 2, 8, 7, 3, 7, 1, 2, 2, 9, 3, 0, 6, 4, 7, 3, 2, 0, 9, 9, 5, 0, 6, 2, 8, 2, 1, 5, 7, 5, 0, 4, 9, 0, 9, 3, 7, 7, 8, 4, 9, 7, 8, 4, 8, 4, 4, 9, 5, 1, 9, 3, 7, 3, 6, 9, 2, 5, 5, 9, 1, 9, 8, 6, 0, 1, 0, 9, 5, 7, 5, 0, 9, 9, 8, 0, 3, 1, 5, 2, 6, 1, 0, 3, 8, 3, 1, 0, 2, 9, 2, 8, 1, 5, 2, 9, 3, 0, 9, 2, 4, 1, 0, 4, 3, 9, 8, 4, 0, 3, 0, 1, 4, 3, 9, 9, 3, 6, 0, 3, 9, 5, 0, 4, 2, 8, 2, 3, 5, 9, 2, 6, 8, 6, 8, 7, 0, 8, 1, 7, 4, 3, 1, 7, 6, 0, 5, 0, 8, 9, 3, 2, 5, 3, 1, 1, 7, 8, 8, 7, 7, 9, 3, 8, 1, 3, 6, 0, 7, 3, 6, 1, 7, 7, 8, 1, 5, 1, 1, 7, 5, 0, 5, 7, 4, 6, 4, 6, 2, 8, 0, 4, 3, 2, 7, 0, 4, 5, 0, 2, 7, 6, 9, 6, 1, 4, 2, 3, 0, 3, 9, 1, 6, 3, 1, 1, 0, 4, 3, 1, 3, 8, 2, 0, 0, 9, 2, 0, 5, 4, 5, 6, 9, 4, 4, 9, 9, 8, 8, 5, 1, 8, 7, 6, 8, 9, 8, 7, 3, 8, 5, 9, 3, 1, 2, 8, 0, 4, 8, 1, 2, 5, 1, 4, 6, 9, 7, 6, 6, 2, 9, 6, 4, 5, 6, 8, 4, 5, 7, 7, 0, 3, 6, 7, 6, 2, 9, 6, 6, 0, 9, 4, 3, 6, 8, 1, 7, 6, 8, 5, 6, 5, 6, 2, 2, 7, 7, 3, 4, 0, 1, 0, 2, 9, 4, 8, 2, 6, 2, 3, 4, 2, 3, 7, 8, 9, 3, 5, 6, 9, 1, 6, 3, 2, 6, 9, 8, 4, 9, 7, 4, 6, 8, 1, 3, 2, 8, 5, 6, 3, 0, 3, 0, 8, 0, 3, 6, 4, 1, 1, 1, 3, 6, 1, 8, 7, 6, 2, 7, 2, 0, 0, 0, 2, 6, 4, 5, 7, 2, 6, 5, 2, 2, 6, 8, 2, 3, 5, 0, 0, 3, 8, 2, 7, 9, 6, 0, 5, 9, 6, 5, 6, 5, 8, 4, 1, 4, 1, 5, 5, 4, 0, 3, 4, 6, 6, 0, 8, 2, 6, 9, 0, 8, 7, 9, 4, 3, 3, 4, 3, 2, 6, 2, 0, 3, 5, 3, 8, 0, 6, 1, 9, 8, 9, 4, 6, 6, 6, 2, 2, 2, 0, 0, 5, 5, 0, 6, 5, 7, 7, 0, 0, 5, 2, 5, 9, 9, 7, 3, 2, 4, 7, 7, 7, 5, 5, 4, 2, 6]\n"
     ]
    }
   ],
   "source": [
    "new_labels = list()\n",
    "for an_image in preds:\n",
    "\n",
    "    label_counts = np.bincount(an_image, minlength=num_labels)\n",
    "\n",
    "    epsilon = 0.1\n",
    "    beta = 1 / epsilon\n",
    "\n",
    "    for i in range(len(label_counts)):\n",
    "        label_counts[i] += np.random.laplace(0, beta, 1)\n",
    "\n",
    "    new_label = np.argmax(label_counts)\n",
    "    \n",
    "    new_labels.append(new_label)\n",
    "print(new_labels)"
   ]
  },
  {
   "cell_type": "code",
   "execution_count": 38,
   "metadata": {},
   "outputs": [],
   "source": [
    "# new_labels"
   ]
  },
  {
   "cell_type": "markdown",
   "metadata": {},
   "source": [
    "# PATE Analysis"
   ]
  },
  {
   "cell_type": "code",
   "execution_count": 39,
   "metadata": {},
   "outputs": [
    {
     "data": {
      "text/plain": [
       "9"
      ]
     },
     "execution_count": 39,
     "metadata": {},
     "output_type": "execute_result"
    }
   ],
   "source": [
    "labels = np.array([9, 9, 3, 6, 9, 9, 9, 9, 8, 2])\n",
    "counts = np.bincount(labels, minlength=10)\n",
    "query_result = np.argmax(counts)\n",
    "query_result"
   ]
  },
  {
   "cell_type": "code",
   "execution_count": 40,
   "metadata": {},
   "outputs": [],
   "source": [
    "from syft.frameworks.torch.differential_privacy import pate"
   ]
  },
  {
   "cell_type": "code",
   "execution_count": 60,
   "metadata": {},
   "outputs": [],
   "source": [
    "num_teachers, num_examples, num_labels = (100, 100, 10)\n",
    "preds = (np.random.rand(num_teachers, num_examples) * num_labels).astype(int) #fake preds\n",
    "indices = (np.random.rand(num_examples) * num_labels).astype(int) # true answers\n",
    "\n",
    "preds[:,0:10] *= 0\n",
    "\n",
    "data_dep_eps, data_ind_eps = pate.perform_analysis(teacher_preds=preds, indices=indices, noise_eps=0.1, delta=1e-5, moments=20)\n",
    "\n",
    "assert data_dep_eps < data_ind_eps\n",
    "\n"
   ]
  },
  {
   "cell_type": "code",
   "execution_count": 62,
   "metadata": {},
   "outputs": [
    {
     "name": "stdout",
     "output_type": "stream",
     "text": [
      "Data Independent Epsilon: 11.756462732485115\n",
      "Data Dependent Epsilon: 0.9029013677789843\n"
     ]
    }
   ],
   "source": [
    "data_dep_eps, data_ind_eps = pate.perform_analysis(teacher_preds=preds, indices=indices, noise_eps=0.1, delta=1e-5, moments=20)\n",
    "print(\"Data Independent Epsilon:\", data_ind_eps)\n",
    "print(\"Data Dependent Epsilon:\", data_dep_eps)"
   ]
  },
  {
   "cell_type": "code",
   "execution_count": 63,
   "metadata": {},
   "outputs": [],
   "source": [
    "preds[:,0:5] *= 0"
   ]
  },
  {
   "cell_type": "code",
   "execution_count": 65,
   "metadata": {},
   "outputs": [
    {
     "name": "stdout",
     "output_type": "stream",
     "text": [
      "Data Independent Epsilon: 11.756462732485115\n",
      "Data Dependent Epsilon: 0.9029013677789843\n"
     ]
    }
   ],
   "source": [
    "data_dep_eps, data_ind_eps = pate.perform_analysis(teacher_preds=preds, indices=indices, noise_eps=0.1, delta=1e-5, moments=20)\n",
    "print(\"Data Independent Epsilon:\", data_ind_eps)\n",
    "print(\"Data Dependent Epsilon:\", data_dep_eps)"
   ]
  },
  {
   "cell_type": "code",
   "execution_count": null,
   "metadata": {},
   "outputs": [],
   "source": []
  },
  {
   "cell_type": "markdown",
   "metadata": {},
   "source": [
    "# Where to Go From Here\n",
    "\n",
    "\n",
    "Read:\n",
    "    - Algorithmic Foundations of Differential Privacy: https://www.cis.upenn.edu/~aaroth/Papers/privacybook.pdf\n",
    "    - Deep Learning with Differential Privacy: https://arxiv.org/pdf/1607.00133.pdf\n",
    "    - The Ethical Algorithm: https://www.amazon.com/Ethical-Algorithm-Science-Socially-Design/dp/0190948205\n",
    "   \n",
    "Topics:\n",
    "    - The Exponential Mechanism\n",
    "    - The Moment's Accountant\n",
    "    - Differentially Private Stochastic Gradient Descent\n",
    "\n",
    "Advice:\n",
    "    - For deployments - stick with public frameworks!\n",
    "    - Join the Differential Privacy Community\n",
    "    - Don't get ahead of yourself - DP is still in the early days"
   ]
  },
  {
   "cell_type": "code",
   "execution_count": null,
   "metadata": {},
   "outputs": [],
   "source": []
  },
  {
   "cell_type": "code",
   "execution_count": null,
   "metadata": {},
   "outputs": [],
   "source": []
  },
  {
   "cell_type": "markdown",
   "metadata": {},
   "source": [
    "# Section Project:\n",
    "\n",
    "For the final project for this section, you're going to train a DP model using this PATE method on the MNIST dataset, provided below."
   ]
  },
  {
   "cell_type": "code",
   "execution_count": 66,
   "metadata": {},
   "outputs": [
    {
     "name": "stdout",
     "output_type": "stream",
     "text": [
      "Downloading http://yann.lecun.com/exdb/mnist/train-images-idx3-ubyte.gz to ./data/MNIST/raw/train-images-idx3-ubyte.gz\n"
     ]
    },
    {
     "name": "stderr",
     "output_type": "stream",
     "text": [
      "100.1%"
     ]
    },
    {
     "name": "stdout",
     "output_type": "stream",
     "text": [
      "Extracting ./data/MNIST/raw/train-images-idx3-ubyte.gz\n",
      "Downloading http://yann.lecun.com/exdb/mnist/train-labels-idx1-ubyte.gz to ./data/MNIST/raw/train-labels-idx1-ubyte.gz\n"
     ]
    },
    {
     "name": "stderr",
     "output_type": "stream",
     "text": [
      "113.5%"
     ]
    },
    {
     "name": "stdout",
     "output_type": "stream",
     "text": [
      "Extracting ./data/MNIST/raw/train-labels-idx1-ubyte.gz\n",
      "Downloading http://yann.lecun.com/exdb/mnist/t10k-images-idx3-ubyte.gz to ./data/MNIST/raw/t10k-images-idx3-ubyte.gz\n"
     ]
    },
    {
     "name": "stderr",
     "output_type": "stream",
     "text": [
      "100.4%"
     ]
    },
    {
     "name": "stdout",
     "output_type": "stream",
     "text": [
      "Extracting ./data/MNIST/raw/t10k-images-idx3-ubyte.gz\n",
      "Downloading http://yann.lecun.com/exdb/mnist/t10k-labels-idx1-ubyte.gz to ./data/MNIST/raw/t10k-labels-idx1-ubyte.gz\n"
     ]
    },
    {
     "name": "stderr",
     "output_type": "stream",
     "text": [
      "180.4%"
     ]
    },
    {
     "name": "stdout",
     "output_type": "stream",
     "text": [
      "Extracting ./data/MNIST/raw/t10k-labels-idx1-ubyte.gz\n",
      "Processing...\n",
      "Done!\n"
     ]
    }
   ],
   "source": [
    "import torchvision.datasets as datasets\n",
    "mnist_trainset = datasets.MNIST(root='./data', train=True, download=True, transform=None)"
   ]
  },
  {
   "cell_type": "code",
   "execution_count": null,
   "metadata": {},
   "outputs": [],
   "source": [
    "train_data_1 = mnist_trainset.train_data\n",
    "train_targets_1 = mnist_trainset.train_labels"
   ]
  },
  {
   "cell_type": "code",
   "execution_count": null,
   "metadata": {},
   "outputs": [],
   "source": [
    "test_data_1 = mnist_trainset.test_data\n",
    "test_targets_1 = mnist_trainset.test_labels"
   ]
  },
  {
   "cell_type": "code",
   "execution_count": null,
   "metadata": {},
   "outputs": [],
   "source": [
    "num_teachers, num_examples, num_labels = (len(train_data), len(train_data), len(test_targets))\n",
    "preds = (np.random.rand(num_teachers, num_examples) * num_labels).astype(int) #fake preds\n",
    "indices = (np.random.rand(num_examples) * num_labels).astype(int) # true answers\n",
    "\n",
    "preds[:,0:10] *= 0\n",
    "\n",
    "data_dep_eps, data_ind_eps = pate.perform_analysis(teacher_preds=preds, indices=indices, noise_eps=0.1, delta=1e-5, moments=20)\n",
    "print(\"Data Independent Epsilon:\", data_ind_eps)\n",
    "print(\"Data Dependent Epsilon:\", data_dep_eps)\n",
    "\n",
    "assert data_dep_eps < data_ind_eps"
   ]
  },
  {
   "cell_type": "code",
   "execution_count": null,
   "metadata": {},
   "outputs": [],
   "source": []
  }
 ],
 "metadata": {
  "kernelspec": {
   "display_name": "Python 3",
   "language": "python",
   "name": "python3"
  },
  "language_info": {
   "codemirror_mode": {
    "name": "ipython",
    "version": 3
   },
   "file_extension": ".py",
   "mimetype": "text/x-python",
   "name": "python",
   "nbconvert_exporter": "python",
   "pygments_lexer": "ipython3",
   "version": "3.7.3"
  }
 },
 "nbformat": 4,
 "nbformat_minor": 2
}
